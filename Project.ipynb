{
 "cells": [
  {
   "cell_type": "markdown",
   "id": "896075c6",
   "metadata": {},
   "source": [
    "This notebook includes the codes used for the final project of the course of \"Machine Learning for Earth and Environmental Sciences,\" instructed by Prof. Beucler, titled: \"Deriving Lake Urmia water depth using Landsat 8 imagery and field\n",
    "measurements.\"\n",
    "\n",
    "In the first step, the packages containing the necessary functions are imported."
   ]
  },
  {
   "cell_type": "code",
   "execution_count": 11,
   "id": "0e4fcd92",
   "metadata": {},
   "outputs": [],
   "source": [
    "import pandas as pd\n",
    "import os\n",
    "import numpy as np\n",
    "from sklearn import preprocessing\n",
    "from sklearn.preprocessing import PolynomialFeatures\n",
    "from sklearn.model_selection import train_test_split\n",
    "from sklearn.metrics import r2_score, mean_squared_error\n",
    "import tifffile \n",
    "import matplotlib.pyplot as plt"
   ]
  },
  {
   "cell_type": "markdown",
   "id": "9cc01247",
   "metadata": {},
   "source": [
    "Then, the font of the texts in the plots and its size is set to be compatible with the whole report."
   ]
  },
  {
   "cell_type": "code",
   "execution_count": 3,
   "id": "086fbec7",
   "metadata": {},
   "outputs": [],
   "source": [
    "plt.rcParams[\"font.family\"] = \"Times New Roman\"\n",
    "plt.rcParams.update({'font.size': 12})"
   ]
  },
  {
   "cell_type": "markdown",
   "id": "890264c6",
   "metadata": {},
   "source": [
    "Then, the data is loaded and set as a dataframe. The data includes 6426 observations (rows), in which the firts six columns are the input data (Landsat 8 bands 2 to 7) and the seventh band is the depth of each observation in meters. And then, the data is converted to nunmpy arrays and each input and output are saved separately."
   ]
  },
  {
   "cell_type": "code",
   "execution_count": 4,
   "id": "a3466a90",
   "metadata": {},
   "outputs": [],
   "source": [
    "df = pd.read_excel (os.path.join('input.xls'))\n",
    "dataset = pd.DataFrame.to_numpy(df)\n",
    "\n",
    "X = dataset[:, :-1]\n",
    "y = dataset[:, -1]\n",
    "\n",
    "normX = preprocessing.normalize(X)"
   ]
  },
  {
   "cell_type": "markdown",
   "id": "4ad0be58",
   "metadata": {},
   "source": [
    "In this section the histogram of the depth (output data) is plotted to have an idea of the input data."
   ]
  },
  {
   "cell_type": "code",
   "execution_count": 5,
   "id": "0597608b",
   "metadata": {},
   "outputs": [
    {
     "data": {
      "image/png": "[encoded data removed]",
      "text/plain": [
       "<Figure size 432x288 with 1 Axes>"
      ]
     },
     "metadata": {
      "needs_background": "light"
     },
     "output_type": "display_data"
    }
   ],
   "source": [
    "\n",
    "rng = np.random.RandomState()  # deterministic random data\n",
    "\n",
    "np.histogram(y)\n",
    "\n",
    "plt.hist(y, bins='auto')  # arguments are passed to np.histogram\n",
    "plt.title(\"Histogram of the depths\")\n",
    "plt.ylabel('Number of pixels')\n",
    "plt.xlabel('Depth (m)')\n",
    "\n",
    "plt.show()"
   ]
  },
  {
   "cell_type": "markdown",
   "id": "8edd7026",
   "metadata": {},
   "source": [
    "Then the datasets is devided into training, validation, validation, and test datasets, using train_test_split function.\n",
    "At first, the whole dataset is split into the test another set, respresenting both validation and training sets and then, the function is used to split the latter into validation and training sets."
   ]
  },
  {
   "cell_type": "code",
   "execution_count": 6,
   "id": "56c17f35",
   "metadata": {},
   "outputs": [],
   "source": [
    "X_t, X_test, y_t, y_test = train_test_split(X, y, test_size=1285.2/6426, random_state=42)\n",
    "\n",
    "X_train, X_valid, y_train, y_valid = train_test_split(X_t, y_t, test_size=1285.2/5140.8, random_state=42)"
   ]
  },
  {
   "cell_type": "markdown",
   "id": "2bdef978",
   "metadata": {},
   "source": [
    "1. Linear regresssion\n",
    "\n",
    "In this section, as the first methods, linear regression is used and then the r-squared and mean squared error of the training and test sets are determined."
   ]
  },
  {
   "cell_type": "code",
   "execution_count": 12,
   "id": "bdcfe4ce",
   "metadata": {},
   "outputs": [
    {
     "name": "stdout",
     "output_type": "stream",
     "text": [
      "0.5489400275684269 0.5313030702918069\n",
      "0.06959009439959558 0.07150711078813365\n"
     ]
    }
   ],
   "source": [
    "#import sklearn.linear_model\n",
    "\n",
    "model = sklearn.linear_model.LinearRegression()\n",
    "model.fit(X_train, y_train)\n",
    "\n",
    "print(r2_score(y_train, model.predict(X_train)), r2_score(y_test, model.predict(X_test)))\n",
    "print(mean_squared_error(y_train, model.predict(X_train)), mean_squared_error(y_test, model.predict(X_test)))"
   ]
  },
  {
   "cell_type": "markdown",
   "id": "bd5bceda",
   "metadata": {},
   "source": [
    "2. Polynomial regression\n",
    "\n",
    "Although the linear regression gives a rather low MSE, it is decided to use a more comlex model. \n",
    "\n",
    "Therefore, the input features are transfomed using the PolynomialFeatures function and then, are fit using linear regression."
   ]
  },
  {
   "cell_type": "code",
   "execution_count": 12,
   "id": "cec46487",
   "metadata": {},
   "outputs": [],
   "source": [
    "poly_features = PolynomialFeatures(degree=2, include_bias=False)\n",
    "X_poly = poly_features.fit_transform(X)"
   ]
  },
  {
   "cell_type": "code",
   "execution_count": 13,
   "id": "4be4c2c4",
   "metadata": {},
   "outputs": [],
   "source": [
    "X_t, X_test, y_t, y_test = train_test_split(X_poly, y, test_size=1285.2/6426, random_state=42)\n",
    "\n",
    "X_train, X_valid, y_train, y_valid = train_test_split(X_t, y_t, test_size=1285.2/5140.8, random_state=42)"
   ]
  },
  {
   "cell_type": "code",
   "execution_count": 103,
   "id": "da80748a",
   "metadata": {},
   "outputs": [
    {
     "name": "stdout",
     "output_type": "stream",
     "text": [
      "0.6849022101378139 0.6615458333036843\n",
      "0.048613679514512745 0.051636522581291054\n"
     ]
    }
   ],
   "source": [
    "from sklearn.linear_model import LinearRegression\n",
    "\n",
    "lin_reg = LinearRegression()\n",
    "lin_reg.fit(X_train, y_train)\n",
    "\n",
    "print(r2_score(y_train, lin_reg.predict(X_train)), r2_score(y_test, lin_reg.predict(X_test)))\n",
    "print(mean_squared_error(y_train, lin_reg.predict(X_train)), mean_squared_error(y_test, lin_reg.predict(X_test)))"
   ]
  },
  {
   "cell_type": "markdown",
   "id": "9deb2b5c",
   "metadata": {},
   "source": [
    "3. Linear regression SVM"
   ]
  },
  {
   "cell_type": "markdown",
   "id": "0eb689e0",
   "metadata": {},
   "source": [
    "Moving from linear regression into polynomial linear regression, has increaed the r squared value. However, the result is not desireable. Therefore, I have decided to move to the next more complex method: Linear Regression SVM."
   ]
  },
  {
   "cell_type": "code",
   "execution_count": 104,
   "id": "43760e48",
   "metadata": {},
   "outputs": [],
   "source": [
    "X_t, X_test, y_t, y_test = train_test_split(X, y, test_size=0.1, random_state=42)\n",
    "\n",
    "X_train, X_valid, y_train, y_valid = train_test_split(X_t, y_t, test_size=0.2, random_state=42)"
   ]
  },
  {
   "cell_type": "code",
   "execution_count": 105,
   "id": "b2ee7844",
   "metadata": {},
   "outputs": [
    {
     "name": "stdout",
     "output_type": "stream",
     "text": [
      "-0.19058971409337366 -0.17348029664129072\n",
      "0.1836856641220019 0.17903293207374701\n"
     ]
    }
   ],
   "source": [
    "from sklearn.svm import LinearSVR\n",
    "\n",
    "svm_reg = LinearSVR(epsilon=1.5)\n",
    "svm_reg.fit(X_train, y_train)\n",
    "\n",
    "print(r2_score(y_train, svm_reg.predict(X_train)), r2_score(y_test, svm_reg.predict(X_test)))\n",
    "print(mean_squared_error(y_train, svm_reg.predict(X_train)), mean_squared_error(y_test, svm_reg.predict(X_test)))"
   ]
  },
  {
   "cell_type": "markdown",
   "id": "145e853e",
   "metadata": {},
   "source": [
    "The result of using the svm_reg is worse than the oter two previous methods! \n",
    "\n",
    "Therefore, I decided to use the SVR function instead and as based on the last results, the using polynomial features gives better results, I used a polynomial kernel with second degree."
   ]
  },
  {
   "cell_type": "code",
   "execution_count": 13,
   "id": "5b5ff56e",
   "metadata": {},
   "outputs": [
    {
     "name": "stdout",
     "output_type": "stream",
     "text": [
      "0.6410626764967595 0.6324172459652317\n",
      "0.05537729737239757 0.05608054811226552\n"
     ]
    }
   ],
   "source": [
    "from sklearn.svm import SVR\n",
    "\n",
    "svm_poly_reg = SVR(kernel=\"poly\", degree=2, C=100, epsilon=0.1)\n",
    "svm_poly_reg.fit(X_train, y_train)\n",
    "\n",
    "print(r2_score(y_train, svm_poly_reg.predict(X_train)), r2_score(y_test, svm_poly_reg.predict(X_test)))\n",
    "print(mean_squared_error(y_train, svm_poly_reg.predict(X_train)), mean_squared_error(y_test, svm_poly_reg.predict(X_test)))"
   ]
  },
  {
   "cell_type": "markdown",
   "id": "5fa333cf",
   "metadata": {},
   "source": [
    "As seen, using these parameters are able to give better results. However, I decided to use GridsearchCV to be able to find the best parameters."
   ]
  },
  {
   "cell_type": "code",
   "execution_count": 81,
   "id": "f6f1e965",
   "metadata": {},
   "outputs": [
    {
     "name": "stdout",
     "output_type": "stream",
     "text": [
      "Fitting 5 folds for each of 108 candidates, totalling 540 fits\n",
      "[CV 1/5] END C=0.1, degree=2, epsilon=0.001, kernel=linear;, score=0.275 total time=   0.2s\n",
      "[CV 2/5] END C=0.1, degree=2, epsilon=0.001, kernel=linear;, score=0.267 total time=   0.2s\n",
      "[CV 3/5] END C=0.1, degree=2, epsilon=0.001, kernel=linear;, score=0.288 total time=   0.2s\n",
      "[CV 4/5] END C=0.1, degree=2, epsilon=0.001, kernel=linear;, score=0.276 total time=   0.2s\n",
      "[CV 5/5] END C=0.1, degree=2, epsilon=0.001, kernel=linear;, score=0.218 total time=   0.2s\n",
      "[CV 1/5] END C=0.1, degree=2, epsilon=0.001, kernel=poly;, score=0.439 total time=   0.3s\n",
      "[CV 2/5] END C=0.1, degree=2, epsilon=0.001, kernel=poly;, score=0.403 total time=   0.3s\n",
      "[CV 3/5] END C=0.1, degree=2, epsilon=0.001, kernel=poly;, score=0.455 total time=   0.3s\n",
      "[CV 4/5] END C=0.1, degree=2, epsilon=0.001, kernel=poly;, score=0.436 total time=   0.3s\n",
      "[CV 5/5] END C=0.1, degree=2, epsilon=0.001, kernel=poly;, score=0.386 total time=   0.3s\n",
      "[CV 1/5] END C=0.1, degree=2, epsilon=0.001, kernel=rbf;, score=0.618 total time=   0.5s\n",
      "[CV 2/5] END C=0.1, degree=2, epsilon=0.001, kernel=rbf;, score=0.571 total time=   0.5s\n",
      "[CV 3/5] END C=0.1, degree=2, epsilon=0.001, kernel=rbf;, score=0.642 total time=   0.5s\n",
      "[CV 4/5] END C=0.1, degree=2, epsilon=0.001, kernel=rbf;, score=0.628 total time=   0.5s\n",
      "[CV 5/5] END C=0.1, degree=2, epsilon=0.001, kernel=rbf;, score=0.555 total time=   0.5s\n",
      "[CV 1/5] END C=0.1, degree=2, epsilon=0.001, kernel=sigmoid;, score=-141.366 total time=   0.5s\n",
      "[CV 2/5] END C=0.1, degree=2, epsilon=0.001, kernel=sigmoid;, score=-143.298 total time=   0.5s\n",
      "[CV 3/5] END C=0.1, degree=2, epsilon=0.001, kernel=sigmoid;, score=-144.875 total time=   0.5s\n",
      "[CV 4/5] END C=0.1, degree=2, epsilon=0.001, kernel=sigmoid;, score=-138.137 total time=   0.5s\n",
      "[CV 5/5] END C=0.1, degree=2, epsilon=0.001, kernel=sigmoid;, score=-129.860 total time=   0.5s\n",
      "[CV 1/5] END C=0.1, degree=2, epsilon=0.01, kernel=linear;, score=0.275 total time=   0.2s\n",
      "[CV 2/5] END C=0.1, degree=2, epsilon=0.01, kernel=linear;, score=0.268 total time=   0.2s\n",
      "[CV 3/5] END C=0.1, degree=2, epsilon=0.01, kernel=linear;, score=0.289 total time=   0.2s\n",
      "[CV 4/5] END C=0.1, degree=2, epsilon=0.01, kernel=linear;, score=0.276 total time=   0.2s\n",
      "[CV 5/5] END C=0.1, degree=2, epsilon=0.01, kernel=linear;, score=0.219 total time=   0.2s\n",
      "[CV 1/5] END C=0.1, degree=2, epsilon=0.01, kernel=poly;, score=0.438 total time=   0.3s\n",
      "[CV 2/5] END C=0.1, degree=2, epsilon=0.01, kernel=poly;, score=0.402 total time=   0.3s\n",
      "[CV 3/5] END C=0.1, degree=2, epsilon=0.01, kernel=poly;, score=0.455 total time=   0.3s\n",
      "[CV 4/5] END C=0.1, degree=2, epsilon=0.01, kernel=poly;, score=0.435 total time=   0.4s\n",
      "[CV 5/5] END C=0.1, degree=2, epsilon=0.01, kernel=poly;, score=0.385 total time=   0.3s\n",
      "[CV 1/5] END C=0.1, degree=2, epsilon=0.01, kernel=rbf;, score=0.620 total time=   0.5s\n",
      "[CV 2/5] END C=0.1, degree=2, epsilon=0.01, kernel=rbf;, score=0.571 total time=   0.5s\n",
      "[CV 3/5] END C=0.1, degree=2, epsilon=0.01, kernel=rbf;, score=0.642 total time=   0.5s\n",
      "[CV 4/5] END C=0.1, degree=2, epsilon=0.01, kernel=rbf;, score=0.629 total time=   0.5s\n",
      "[CV 5/5] END C=0.1, degree=2, epsilon=0.01, kernel=rbf;, score=0.556 total time=   0.5s\n",
      "[CV 1/5] END C=0.1, degree=2, epsilon=0.01, kernel=sigmoid;, score=-141.305 total time=   0.5s\n",
      "[CV 2/5] END C=0.1, degree=2, epsilon=0.01, kernel=sigmoid;, score=-143.386 total time=   0.5s\n",
      "[CV 3/5] END C=0.1, degree=2, epsilon=0.01, kernel=sigmoid;, score=-144.933 total time=   0.5s\n",
      "[CV 4/5] END C=0.1, degree=2, epsilon=0.01, kernel=sigmoid;, score=-138.150 total time=   0.5s\n",
      "[CV 5/5] END C=0.1, degree=2, epsilon=0.01, kernel=sigmoid;, score=-129.838 total time=   0.5s\n",
      "[CV 1/5] END C=0.1, degree=2, epsilon=0.1, kernel=linear;, score=0.288 total time=   0.2s\n",
      "[CV 2/5] END C=0.1, degree=2, epsilon=0.1, kernel=linear;, score=0.281 total time=   0.2s\n",
      "[CV 3/5] END C=0.1, degree=2, epsilon=0.1, kernel=linear;, score=0.296 total time=   0.2s\n",
      "[CV 4/5] END C=0.1, degree=2, epsilon=0.1, kernel=linear;, score=0.287 total time=   0.2s\n",
      "[CV 5/5] END C=0.1, degree=2, epsilon=0.1, kernel=linear;, score=0.230 total time=   0.2s\n",
      "[CV 1/5] END C=0.1, degree=2, epsilon=0.1, kernel=poly;, score=0.450 total time=   0.2s\n",
      "[CV 2/5] END C=0.1, degree=2, epsilon=0.1, kernel=poly;, score=0.410 total time=   0.2s\n",
      "[CV 3/5] END C=0.1, degree=2, epsilon=0.1, kernel=poly;, score=0.461 total time=   0.2s\n",
      "[CV 4/5] END C=0.1, degree=2, epsilon=0.1, kernel=poly;, score=0.439 total time=   0.2s\n",
      "[CV 5/5] END C=0.1, degree=2, epsilon=0.1, kernel=poly;, score=0.393 total time=   0.2s\n",
      "[CV 1/5] END C=0.1, degree=2, epsilon=0.1, kernel=rbf;, score=0.634 total time=   0.3s\n",
      "[CV 2/5] END C=0.1, degree=2, epsilon=0.1, kernel=rbf;, score=0.582 total time=   0.2s\n",
      "[CV 3/5] END C=0.1, degree=2, epsilon=0.1, kernel=rbf;, score=0.654 total time=   0.3s\n",
      "[CV 4/5] END C=0.1, degree=2, epsilon=0.1, kernel=rbf;, score=0.637 total time=   0.3s\n",
      "[CV 5/5] END C=0.1, degree=2, epsilon=0.1, kernel=rbf;, score=0.568 total time=   0.3s\n",
      "[CV 1/5] END C=0.1, degree=2, epsilon=0.1, kernel=sigmoid;, score=-140.600 total time=   0.5s\n",
      "[CV 2/5] END C=0.1, degree=2, epsilon=0.1, kernel=sigmoid;, score=-142.491 total time=   0.5s\n",
      "[CV 3/5] END C=0.1, degree=2, epsilon=0.1, kernel=sigmoid;, score=-143.909 total time=   0.5s\n",
      "[CV 4/5] END C=0.1, degree=2, epsilon=0.1, kernel=sigmoid;, score=-137.423 total time=   0.5s\n",
      "[CV 5/5] END C=0.1, degree=2, epsilon=0.1, kernel=sigmoid;, score=-129.284 total time=   0.5s\n",
      "[CV 1/5] END C=0.1, degree=3, epsilon=0.001, kernel=linear;, score=0.275 total time=   0.3s\n",
      "[CV 2/5] END C=0.1, degree=3, epsilon=0.001, kernel=linear;, score=0.267 total time=   0.3s\n",
      "[CV 3/5] END C=0.1, degree=3, epsilon=0.001, kernel=linear;, score=0.288 total time=   0.3s\n",
      "[CV 4/5] END C=0.1, degree=3, epsilon=0.001, kernel=linear;, score=0.276 total time=   0.3s\n",
      "[CV 5/5] END C=0.1, degree=3, epsilon=0.001, kernel=linear;, score=0.218 total time=   0.3s\n",
      "[CV 1/5] END C=0.1, degree=3, epsilon=0.001, kernel=poly;, score=0.218 total time=   0.9s\n",
      "[CV 2/5] END C=0.1, degree=3, epsilon=0.001, kernel=poly;, score=0.281 total time=   0.6s\n",
      "[CV 3/5] END C=0.1, degree=3, epsilon=0.001, kernel=poly;, score=0.372 total time=   0.9s\n",
      "[CV 4/5] END C=0.1, degree=3, epsilon=0.001, kernel=poly;, score=0.248 total time=   0.7s\n",
      "[CV 5/5] END C=0.1, degree=3, epsilon=0.001, kernel=poly;, score=0.307 total time=   0.6s\n",
      "[CV 1/5] END C=0.1, degree=3, epsilon=0.001, kernel=rbf;, score=0.618 total time=   0.5s\n",
      "[CV 2/5] END C=0.1, degree=3, epsilon=0.001, kernel=rbf;, score=0.571 total time=   0.6s\n",
      "[CV 3/5] END C=0.1, degree=3, epsilon=0.001, kernel=rbf;, score=0.642 total time=   0.6s\n",
      "[CV 4/5] END C=0.1, degree=3, epsilon=0.001, kernel=rbf;, score=0.628 total time=   0.5s\n",
      "[CV 5/5] END C=0.1, degree=3, epsilon=0.001, kernel=rbf;, score=0.555 total time=   0.6s\n",
      "[CV 1/5] END C=0.1, degree=3, epsilon=0.001, kernel=sigmoid;, score=-141.366 total time=   0.5s\n",
      "[CV 2/5] END C=0.1, degree=3, epsilon=0.001, kernel=sigmoid;, score=-143.298 total time=   0.5s\n",
      "[CV 3/5] END C=0.1, degree=3, epsilon=0.001, kernel=sigmoid;, score=-144.875 total time=   0.5s\n",
      "[CV 4/5] END C=0.1, degree=3, epsilon=0.001, kernel=sigmoid;, score=-138.137 total time=   0.5s\n",
      "[CV 5/5] END C=0.1, degree=3, epsilon=0.001, kernel=sigmoid;, score=-129.860 total time=   0.5s\n",
      "[CV 1/5] END C=0.1, degree=3, epsilon=0.01, kernel=linear;, score=0.275 total time=   0.3s\n",
      "[CV 2/5] END C=0.1, degree=3, epsilon=0.01, kernel=linear;, score=0.268 total time=   0.3s\n",
      "[CV 3/5] END C=0.1, degree=3, epsilon=0.01, kernel=linear;, score=0.289 total time=   0.3s\n",
      "[CV 4/5] END C=0.1, degree=3, epsilon=0.01, kernel=linear;, score=0.276 total time=   0.3s\n",
      "[CV 5/5] END C=0.1, degree=3, epsilon=0.01, kernel=linear;, score=0.219 total time=   0.3s\n",
      "[CV 1/5] END C=0.1, degree=3, epsilon=0.01, kernel=poly;, score=0.219 total time=   0.7s\n",
      "[CV 2/5] END C=0.1, degree=3, epsilon=0.01, kernel=poly;, score=0.281 total time=   0.7s\n",
      "[CV 3/5] END C=0.1, degree=3, epsilon=0.01, kernel=poly;, score=0.371 total time=   0.8s\n",
      "[CV 4/5] END C=0.1, degree=3, epsilon=0.01, kernel=poly;, score=0.245 total time=   0.7s\n",
      "[CV 5/5] END C=0.1, degree=3, epsilon=0.01, kernel=poly;, score=0.305 total time=   0.5s\n"
     ]
    },
    {
     "name": "stdout",
     "output_type": "stream",
     "text": [
      "[CV 1/5] END C=0.1, degree=3, epsilon=0.01, kernel=rbf;, score=0.620 total time=   0.5s\n",
      "[CV 2/5] END C=0.1, degree=3, epsilon=0.01, kernel=rbf;, score=0.571 total time=   0.5s\n",
      "[CV 3/5] END C=0.1, degree=3, epsilon=0.01, kernel=rbf;, score=0.642 total time=   0.6s\n",
      "[CV 4/5] END C=0.1, degree=3, epsilon=0.01, kernel=rbf;, score=0.629 total time=   0.5s\n",
      "[CV 5/5] END C=0.1, degree=3, epsilon=0.01, kernel=rbf;, score=0.556 total time=   0.5s\n",
      "[CV 1/5] END C=0.1, degree=3, epsilon=0.01, kernel=sigmoid;, score=-141.305 total time=   0.5s\n",
      "[CV 2/5] END C=0.1, degree=3, epsilon=0.01, kernel=sigmoid;, score=-143.386 total time=   0.5s\n",
      "[CV 3/5] END C=0.1, degree=3, epsilon=0.01, kernel=sigmoid;, score=-144.933 total time=   0.5s\n",
      "[CV 4/5] END C=0.1, degree=3, epsilon=0.01, kernel=sigmoid;, score=-138.150 total time=   0.5s\n",
      "[CV 5/5] END C=0.1, degree=3, epsilon=0.01, kernel=sigmoid;, score=-129.838 total time=   0.5s\n",
      "[CV 1/5] END C=0.1, degree=3, epsilon=0.1, kernel=linear;, score=0.288 total time=   0.2s\n",
      "[CV 2/5] END C=0.1, degree=3, epsilon=0.1, kernel=linear;, score=0.281 total time=   0.2s\n",
      "[CV 3/5] END C=0.1, degree=3, epsilon=0.1, kernel=linear;, score=0.296 total time=   0.2s\n",
      "[CV 4/5] END C=0.1, degree=3, epsilon=0.1, kernel=linear;, score=0.287 total time=   0.2s\n",
      "[CV 5/5] END C=0.1, degree=3, epsilon=0.1, kernel=linear;, score=0.230 total time=   0.2s\n",
      "[CV 1/5] END C=0.1, degree=3, epsilon=0.1, kernel=poly;, score=0.260 total time=   0.6s\n",
      "[CV 2/5] END C=0.1, degree=3, epsilon=0.1, kernel=poly;, score=0.289 total time=   0.5s\n",
      "[CV 3/5] END C=0.1, degree=3, epsilon=0.1, kernel=poly;, score=0.384 total time=   0.7s\n",
      "[CV 4/5] END C=0.1, degree=3, epsilon=0.1, kernel=poly;, score=0.251 total time=   0.7s\n",
      "[CV 5/5] END C=0.1, degree=3, epsilon=0.1, kernel=poly;, score=0.320 total time=   0.5s\n",
      "[CV 1/5] END C=0.1, degree=3, epsilon=0.1, kernel=rbf;, score=0.634 total time=   0.3s\n",
      "[CV 2/5] END C=0.1, degree=3, epsilon=0.1, kernel=rbf;, score=0.582 total time=   0.3s\n",
      "[CV 3/5] END C=0.1, degree=3, epsilon=0.1, kernel=rbf;, score=0.654 total time=   0.3s\n",
      "[CV 4/5] END C=0.1, degree=3, epsilon=0.1, kernel=rbf;, score=0.637 total time=   0.3s\n",
      "[CV 5/5] END C=0.1, degree=3, epsilon=0.1, kernel=rbf;, score=0.568 total time=   0.3s\n",
      "[CV 1/5] END C=0.1, degree=3, epsilon=0.1, kernel=sigmoid;, score=-140.600 total time=   0.5s\n",
      "[CV 2/5] END C=0.1, degree=3, epsilon=0.1, kernel=sigmoid;, score=-142.491 total time=   0.5s\n",
      "[CV 3/5] END C=0.1, degree=3, epsilon=0.1, kernel=sigmoid;, score=-143.909 total time=   0.5s\n",
      "[CV 4/5] END C=0.1, degree=3, epsilon=0.1, kernel=sigmoid;, score=-137.423 total time=   0.5s\n",
      "[CV 5/5] END C=0.1, degree=3, epsilon=0.1, kernel=sigmoid;, score=-129.284 total time=   0.5s\n",
      "[CV 1/5] END C=0.1, degree=4, epsilon=0.001, kernel=linear;, score=0.275 total time=   0.3s\n",
      "[CV 2/5] END C=0.1, degree=4, epsilon=0.001, kernel=linear;, score=0.267 total time=   0.3s\n",
      "[CV 3/5] END C=0.1, degree=4, epsilon=0.001, kernel=linear;, score=0.288 total time=   0.3s\n",
      "[CV 4/5] END C=0.1, degree=4, epsilon=0.001, kernel=linear;, score=0.276 total time=   0.3s\n",
      "[CV 5/5] END C=0.1, degree=4, epsilon=0.001, kernel=linear;, score=0.218 total time=   0.3s\n",
      "[CV 1/5] END C=0.1, degree=4, epsilon=0.001, kernel=poly;, score=0.278 total time=   2.8s\n",
      "[CV 2/5] END C=0.1, degree=4, epsilon=0.001, kernel=poly;, score=0.278 total time=   3.3s\n",
      "[CV 3/5] END C=0.1, degree=4, epsilon=0.001, kernel=poly;, score=0.305 total time=   5.1s\n",
      "[CV 4/5] END C=0.1, degree=4, epsilon=0.001, kernel=poly;, score=-0.062 total time=   4.4s\n",
      "[CV 5/5] END C=0.1, degree=4, epsilon=0.001, kernel=poly;, score=0.238 total time=   4.5s\n",
      "[CV 1/5] END C=0.1, degree=4, epsilon=0.001, kernel=rbf;, score=0.618 total time=   0.5s\n",
      "[CV 2/5] END C=0.1, degree=4, epsilon=0.001, kernel=rbf;, score=0.571 total time=   0.5s\n",
      "[CV 3/5] END C=0.1, degree=4, epsilon=0.001, kernel=rbf;, score=0.642 total time=   0.5s\n",
      "[CV 4/5] END C=0.1, degree=4, epsilon=0.001, kernel=rbf;, score=0.628 total time=   0.6s\n",
      "[CV 5/5] END C=0.1, degree=4, epsilon=0.001, kernel=rbf;, score=0.555 total time=   0.6s\n",
      "[CV 1/5] END C=0.1, degree=4, epsilon=0.001, kernel=sigmoid;, score=-141.366 total time=   0.5s\n",
      "[CV 2/5] END C=0.1, degree=4, epsilon=0.001, kernel=sigmoid;, score=-143.298 total time=   0.6s\n",
      "[CV 3/5] END C=0.1, degree=4, epsilon=0.001, kernel=sigmoid;, score=-144.875 total time=   0.5s\n",
      "[CV 4/5] END C=0.1, degree=4, epsilon=0.001, kernel=sigmoid;, score=-138.137 total time=   0.5s\n",
      "[CV 5/5] END C=0.1, degree=4, epsilon=0.001, kernel=sigmoid;, score=-129.860 total time=   0.5s\n",
      "[CV 1/5] END C=0.1, degree=4, epsilon=0.01, kernel=linear;, score=0.275 total time=   0.2s\n",
      "[CV 2/5] END C=0.1, degree=4, epsilon=0.01, kernel=linear;, score=0.268 total time=   0.2s\n",
      "[CV 3/5] END C=0.1, degree=4, epsilon=0.01, kernel=linear;, score=0.289 total time=   0.2s\n",
      "[CV 4/5] END C=0.1, degree=4, epsilon=0.01, kernel=linear;, score=0.276 total time=   0.2s\n",
      "[CV 5/5] END C=0.1, degree=4, epsilon=0.01, kernel=linear;, score=0.219 total time=   0.2s\n",
      "[CV 1/5] END C=0.1, degree=4, epsilon=0.01, kernel=poly;, score=0.278 total time=   2.0s\n",
      "[CV 2/5] END C=0.1, degree=4, epsilon=0.01, kernel=poly;, score=0.280 total time=   2.9s\n",
      "[CV 3/5] END C=0.1, degree=4, epsilon=0.01, kernel=poly;, score=0.306 total time=   5.8s\n",
      "[CV 4/5] END C=0.1, degree=4, epsilon=0.01, kernel=poly;, score=-0.055 total time=   4.3s\n",
      "[CV 5/5] END C=0.1, degree=4, epsilon=0.01, kernel=poly;, score=0.236 total time=   5.1s\n",
      "[CV 1/5] END C=0.1, degree=4, epsilon=0.01, kernel=rbf;, score=0.620 total time=   0.5s\n",
      "[CV 2/5] END C=0.1, degree=4, epsilon=0.01, kernel=rbf;, score=0.571 total time=   0.5s\n",
      "[CV 3/5] END C=0.1, degree=4, epsilon=0.01, kernel=rbf;, score=0.642 total time=   0.5s\n",
      "[CV 4/5] END C=0.1, degree=4, epsilon=0.01, kernel=rbf;, score=0.629 total time=   0.5s\n",
      "[CV 5/5] END C=0.1, degree=4, epsilon=0.01, kernel=rbf;, score=0.556 total time=   0.5s\n",
      "[CV 1/5] END C=0.1, degree=4, epsilon=0.01, kernel=sigmoid;, score=-141.305 total time=   0.5s\n",
      "[CV 2/5] END C=0.1, degree=4, epsilon=0.01, kernel=sigmoid;, score=-143.386 total time=   0.5s\n",
      "[CV 3/5] END C=0.1, degree=4, epsilon=0.01, kernel=sigmoid;, score=-144.933 total time=   0.5s\n",
      "[CV 4/5] END C=0.1, degree=4, epsilon=0.01, kernel=sigmoid;, score=-138.150 total time=   0.5s\n",
      "[CV 5/5] END C=0.1, degree=4, epsilon=0.01, kernel=sigmoid;, score=-129.838 total time=   0.5s\n",
      "[CV 1/5] END C=0.1, degree=4, epsilon=0.1, kernel=linear;, score=0.288 total time=   0.2s\n",
      "[CV 2/5] END C=0.1, degree=4, epsilon=0.1, kernel=linear;, score=0.281 total time=   0.2s\n",
      "[CV 3/5] END C=0.1, degree=4, epsilon=0.1, kernel=linear;, score=0.296 total time=   0.1s\n",
      "[CV 4/5] END C=0.1, degree=4, epsilon=0.1, kernel=linear;, score=0.287 total time=   0.1s\n",
      "[CV 5/5] END C=0.1, degree=4, epsilon=0.1, kernel=linear;, score=0.230 total time=   0.2s\n",
      "[CV 1/5] END C=0.1, degree=4, epsilon=0.1, kernel=poly;, score=0.299 total time=   3.3s\n",
      "[CV 2/5] END C=0.1, degree=4, epsilon=0.1, kernel=poly;, score=0.296 total time=   2.1s\n",
      "[CV 3/5] END C=0.1, degree=4, epsilon=0.1, kernel=poly;, score=0.311 total time=   4.6s\n",
      "[CV 4/5] END C=0.1, degree=4, epsilon=0.1, kernel=poly;, score=-0.092 total time=   3.0s\n",
      "[CV 5/5] END C=0.1, degree=4, epsilon=0.1, kernel=poly;, score=0.253 total time=   2.1s\n",
      "[CV 1/5] END C=0.1, degree=4, epsilon=0.1, kernel=rbf;, score=0.634 total time=   0.2s\n",
      "[CV 2/5] END C=0.1, degree=4, epsilon=0.1, kernel=rbf;, score=0.582 total time=   0.3s\n",
      "[CV 3/5] END C=0.1, degree=4, epsilon=0.1, kernel=rbf;, score=0.654 total time=   0.2s\n",
      "[CV 4/5] END C=0.1, degree=4, epsilon=0.1, kernel=rbf;, score=0.637 total time=   0.3s\n",
      "[CV 5/5] END C=0.1, degree=4, epsilon=0.1, kernel=rbf;, score=0.568 total time=   0.3s\n",
      "[CV 1/5] END C=0.1, degree=4, epsilon=0.1, kernel=sigmoid;, score=-140.600 total time=   0.4s\n",
      "[CV 2/5] END C=0.1, degree=4, epsilon=0.1, kernel=sigmoid;, score=-142.491 total time=   0.4s\n",
      "[CV 3/5] END C=0.1, degree=4, epsilon=0.1, kernel=sigmoid;, score=-143.909 total time=   0.4s\n",
      "[CV 4/5] END C=0.1, degree=4, epsilon=0.1, kernel=sigmoid;, score=-137.423 total time=   0.4s\n",
      "[CV 5/5] END C=0.1, degree=4, epsilon=0.1, kernel=sigmoid;, score=-129.284 total time=   0.4s\n",
      "[CV 1/5] END C=1, degree=2, epsilon=0.001, kernel=linear;, score=0.404 total time=   0.2s\n"
     ]
    },
    {
     "name": "stdout",
     "output_type": "stream",
     "text": [
      "[CV 2/5] END C=1, degree=2, epsilon=0.001, kernel=linear;, score=0.377 total time=   0.2s\n",
      "[CV 3/5] END C=1, degree=2, epsilon=0.001, kernel=linear;, score=0.422 total time=   0.2s\n",
      "[CV 4/5] END C=1, degree=2, epsilon=0.001, kernel=linear;, score=0.410 total time=   0.2s\n",
      "[CV 5/5] END C=1, degree=2, epsilon=0.001, kernel=linear;, score=0.339 total time=   0.2s\n",
      "[CV 1/5] END C=1, degree=2, epsilon=0.001, kernel=poly;, score=0.530 total time=   0.5s\n",
      "[CV 2/5] END C=1, degree=2, epsilon=0.001, kernel=poly;, score=0.492 total time=   0.5s\n",
      "[CV 3/5] END C=1, degree=2, epsilon=0.001, kernel=poly;, score=0.559 total time=   0.5s\n",
      "[CV 4/5] END C=1, degree=2, epsilon=0.001, kernel=poly;, score=0.520 total time=   0.7s\n",
      "[CV 5/5] END C=1, degree=2, epsilon=0.001, kernel=poly;, score=0.494 total time=   0.6s\n",
      "[CV 1/5] END C=1, degree=2, epsilon=0.001, kernel=rbf;, score=0.688 total time=   0.6s\n",
      "[CV 2/5] END C=1, degree=2, epsilon=0.001, kernel=rbf;, score=0.648 total time=   0.5s\n",
      "[CV 3/5] END C=1, degree=2, epsilon=0.001, kernel=rbf;, score=0.714 total time=   0.6s\n",
      "[CV 4/5] END C=1, degree=2, epsilon=0.001, kernel=rbf;, score=0.704 total time=   0.5s\n",
      "[CV 5/5] END C=1, degree=2, epsilon=0.001, kernel=rbf;, score=0.635 total time=   0.6s\n",
      "[CV 1/5] END C=1, degree=2, epsilon=0.001, kernel=sigmoid;, score=-13094.731 total time=   0.5s\n",
      "[CV 2/5] END C=1, degree=2, epsilon=0.001, kernel=sigmoid;, score=-13284.600 total time=   0.6s\n",
      "[CV 3/5] END C=1, degree=2, epsilon=0.001, kernel=sigmoid;, score=-13459.322 total time=   0.6s\n",
      "[CV 4/5] END C=1, degree=2, epsilon=0.001, kernel=sigmoid;, score=-12793.258 total time=   0.5s\n",
      "[CV 5/5] END C=1, degree=2, epsilon=0.001, kernel=sigmoid;, score=-12092.284 total time=   0.5s\n",
      "[CV 1/5] END C=1, degree=2, epsilon=0.01, kernel=linear;, score=0.406 total time=   0.2s\n",
      "[CV 2/5] END C=1, degree=2, epsilon=0.01, kernel=linear;, score=0.376 total time=   0.2s\n",
      "[CV 3/5] END C=1, degree=2, epsilon=0.01, kernel=linear;, score=0.423 total time=   0.2s\n",
      "[CV 4/5] END C=1, degree=2, epsilon=0.01, kernel=linear;, score=0.411 total time=   0.2s\n",
      "[CV 5/5] END C=1, degree=2, epsilon=0.01, kernel=linear;, score=0.341 total time=   0.2s\n",
      "[CV 1/5] END C=1, degree=2, epsilon=0.01, kernel=poly;, score=0.531 total time=   0.5s\n",
      "[CV 2/5] END C=1, degree=2, epsilon=0.01, kernel=poly;, score=0.491 total time=   0.5s\n",
      "[CV 3/5] END C=1, degree=2, epsilon=0.01, kernel=poly;, score=0.559 total time=   0.5s\n",
      "[CV 4/5] END C=1, degree=2, epsilon=0.01, kernel=poly;, score=0.519 total time=   0.6s\n",
      "[CV 5/5] END C=1, degree=2, epsilon=0.01, kernel=poly;, score=0.494 total time=   0.7s\n",
      "[CV 1/5] END C=1, degree=2, epsilon=0.01, kernel=rbf;, score=0.689 total time=   0.5s\n",
      "[CV 2/5] END C=1, degree=2, epsilon=0.01, kernel=rbf;, score=0.649 total time=   0.5s\n",
      "[CV 3/5] END C=1, degree=2, epsilon=0.01, kernel=rbf;, score=0.715 total time=   0.5s\n",
      "[CV 4/5] END C=1, degree=2, epsilon=0.01, kernel=rbf;, score=0.704 total time=   0.5s\n",
      "[CV 5/5] END C=1, degree=2, epsilon=0.01, kernel=rbf;, score=0.636 total time=   0.5s\n",
      "[CV 1/5] END C=1, degree=2, epsilon=0.01, kernel=sigmoid;, score=-13094.437 total time=   0.5s\n",
      "[CV 2/5] END C=1, degree=2, epsilon=0.01, kernel=sigmoid;, score=-13286.383 total time=   0.5s\n",
      "[CV 3/5] END C=1, degree=2, epsilon=0.01, kernel=sigmoid;, score=-13457.257 total time=   0.5s\n",
      "[CV 4/5] END C=1, degree=2, epsilon=0.01, kernel=sigmoid;, score=-12792.983 total time=   0.5s\n",
      "[CV 5/5] END C=1, degree=2, epsilon=0.01, kernel=sigmoid;, score=-12091.739 total time=   0.5s\n",
      "[CV 1/5] END C=1, degree=2, epsilon=0.1, kernel=linear;, score=0.417 total time=   0.1s\n",
      "[CV 2/5] END C=1, degree=2, epsilon=0.1, kernel=linear;, score=0.383 total time=   0.2s\n",
      "[CV 3/5] END C=1, degree=2, epsilon=0.1, kernel=linear;, score=0.427 total time=   0.1s\n",
      "[CV 4/5] END C=1, degree=2, epsilon=0.1, kernel=linear;, score=0.417 total time=   0.1s\n",
      "[CV 5/5] END C=1, degree=2, epsilon=0.1, kernel=linear;, score=0.348 total time=   0.1s\n",
      "[CV 1/5] END C=1, degree=2, epsilon=0.1, kernel=poly;, score=0.549 total time=   0.5s\n",
      "[CV 2/5] END C=1, degree=2, epsilon=0.1, kernel=poly;, score=0.500 total time=   0.6s\n",
      "[CV 3/5] END C=1, degree=2, epsilon=0.1, kernel=poly;, score=0.567 total time=   0.3s\n",
      "[CV 4/5] END C=1, degree=2, epsilon=0.1, kernel=poly;, score=0.529 total time=   0.4s\n",
      "[CV 5/5] END C=1, degree=2, epsilon=0.1, kernel=poly;, score=0.503 total time=   0.4s\n",
      "[CV 1/5] END C=1, degree=2, epsilon=0.1, kernel=rbf;, score=0.695 total time=   0.3s\n",
      "[CV 2/5] END C=1, degree=2, epsilon=0.1, kernel=rbf;, score=0.650 total time=   0.3s\n",
      "[CV 3/5] END C=1, degree=2, epsilon=0.1, kernel=rbf;, score=0.718 total time=   0.3s\n",
      "[CV 4/5] END C=1, degree=2, epsilon=0.1, kernel=rbf;, score=0.704 total time=   0.2s\n",
      "[CV 5/5] END C=1, degree=2, epsilon=0.1, kernel=rbf;, score=0.641 total time=   0.3s\n",
      "[CV 1/5] END C=1, degree=2, epsilon=0.1, kernel=sigmoid;, score=-13093.759 total time=   0.5s\n",
      "[CV 2/5] END C=1, degree=2, epsilon=0.1, kernel=sigmoid;, score=-13283.865 total time=   0.5s\n",
      "[CV 3/5] END C=1, degree=2, epsilon=0.1, kernel=sigmoid;, score=-13453.123 total time=   0.5s\n",
      "[CV 4/5] END C=1, degree=2, epsilon=0.1, kernel=sigmoid;, score=-12795.384 total time=   0.5s\n",
      "[CV 5/5] END C=1, degree=2, epsilon=0.1, kernel=sigmoid;, score=-12093.295 total time=   0.5s\n",
      "[CV 1/5] END C=1, degree=3, epsilon=0.001, kernel=linear;, score=0.404 total time=   0.2s\n",
      "[CV 2/5] END C=1, degree=3, epsilon=0.001, kernel=linear;, score=0.377 total time=   0.2s\n",
      "[CV 3/5] END C=1, degree=3, epsilon=0.001, kernel=linear;, score=0.422 total time=   0.2s\n",
      "[CV 4/5] END C=1, degree=3, epsilon=0.001, kernel=linear;, score=0.410 total time=   0.2s\n",
      "[CV 5/5] END C=1, degree=3, epsilon=0.001, kernel=linear;, score=0.339 total time=   0.2s\n",
      "[CV 1/5] END C=1, degree=3, epsilon=0.001, kernel=poly;, score=0.443 total time=   1.8s\n",
      "[CV 2/5] END C=1, degree=3, epsilon=0.001, kernel=poly;, score=0.383 total time=   1.7s\n",
      "[CV 3/5] END C=1, degree=3, epsilon=0.001, kernel=poly;, score=0.493 total time=   2.2s\n",
      "[CV 4/5] END C=1, degree=3, epsilon=0.001, kernel=poly;, score=0.277 total time=   1.7s\n",
      "[CV 5/5] END C=1, degree=3, epsilon=0.001, kernel=poly;, score=0.430 total time=   1.9s\n",
      "[CV 1/5] END C=1, degree=3, epsilon=0.001, kernel=rbf;, score=0.688 total time=   0.6s\n",
      "[CV 2/5] END C=1, degree=3, epsilon=0.001, kernel=rbf;, score=0.648 total time=   0.5s\n",
      "[CV 3/5] END C=1, degree=3, epsilon=0.001, kernel=rbf;, score=0.714 total time=   0.6s\n",
      "[CV 4/5] END C=1, degree=3, epsilon=0.001, kernel=rbf;, score=0.704 total time=   0.6s\n",
      "[CV 5/5] END C=1, degree=3, epsilon=0.001, kernel=rbf;, score=0.635 total time=   0.5s\n",
      "[CV 1/5] END C=1, degree=3, epsilon=0.001, kernel=sigmoid;, score=-13094.731 total time=   0.5s\n",
      "[CV 2/5] END C=1, degree=3, epsilon=0.001, kernel=sigmoid;, score=-13284.600 total time=   0.5s\n",
      "[CV 3/5] END C=1, degree=3, epsilon=0.001, kernel=sigmoid;, score=-13459.322 total time=   0.5s\n",
      "[CV 4/5] END C=1, degree=3, epsilon=0.001, kernel=sigmoid;, score=-12793.258 total time=   0.5s\n",
      "[CV 5/5] END C=1, degree=3, epsilon=0.001, kernel=sigmoid;, score=-12092.284 total time=   0.5s\n",
      "[CV 1/5] END C=1, degree=3, epsilon=0.01, kernel=linear;, score=0.406 total time=   0.2s\n",
      "[CV 2/5] END C=1, degree=3, epsilon=0.01, kernel=linear;, score=0.376 total time=   0.2s\n",
      "[CV 3/5] END C=1, degree=3, epsilon=0.01, kernel=linear;, score=0.423 total time=   0.2s\n",
      "[CV 4/5] END C=1, degree=3, epsilon=0.01, kernel=linear;, score=0.411 total time=   0.2s\n",
      "[CV 5/5] END C=1, degree=3, epsilon=0.01, kernel=linear;, score=0.341 total time=   0.2s\n",
      "[CV 1/5] END C=1, degree=3, epsilon=0.01, kernel=poly;, score=0.447 total time=   1.7s\n",
      "[CV 2/5] END C=1, degree=3, epsilon=0.01, kernel=poly;, score=0.382 total time=   1.5s\n",
      "[CV 3/5] END C=1, degree=3, epsilon=0.01, kernel=poly;, score=0.493 total time=   1.6s\n",
      "[CV 4/5] END C=1, degree=3, epsilon=0.01, kernel=poly;, score=0.269 total time=   2.0s\n",
      "[CV 5/5] END C=1, degree=3, epsilon=0.01, kernel=poly;, score=0.431 total time=   1.6s\n",
      "[CV 1/5] END C=1, degree=3, epsilon=0.01, kernel=rbf;, score=0.689 total time=   0.5s\n",
      "[CV 2/5] END C=1, degree=3, epsilon=0.01, kernel=rbf;, score=0.649 total time=   0.5s\n",
      "[CV 3/5] END C=1, degree=3, epsilon=0.01, kernel=rbf;, score=0.715 total time=   0.5s\n"
     ]
    },
    {
     "name": "stdout",
     "output_type": "stream",
     "text": [
      "[CV 4/5] END C=1, degree=3, epsilon=0.01, kernel=rbf;, score=0.704 total time=   0.5s\n",
      "[CV 5/5] END C=1, degree=3, epsilon=0.01, kernel=rbf;, score=0.636 total time=   0.5s\n",
      "[CV 1/5] END C=1, degree=3, epsilon=0.01, kernel=sigmoid;, score=-13094.437 total time=   0.5s\n",
      "[CV 2/5] END C=1, degree=3, epsilon=0.01, kernel=sigmoid;, score=-13286.383 total time=   0.5s\n",
      "[CV 3/5] END C=1, degree=3, epsilon=0.01, kernel=sigmoid;, score=-13457.257 total time=   0.5s\n",
      "[CV 4/5] END C=1, degree=3, epsilon=0.01, kernel=sigmoid;, score=-12792.983 total time=   0.5s\n",
      "[CV 5/5] END C=1, degree=3, epsilon=0.01, kernel=sigmoid;, score=-12091.739 total time=   0.5s\n",
      "[CV 1/5] END C=1, degree=3, epsilon=0.1, kernel=linear;, score=0.417 total time=   0.1s\n",
      "[CV 2/5] END C=1, degree=3, epsilon=0.1, kernel=linear;, score=0.383 total time=   0.1s\n",
      "[CV 3/5] END C=1, degree=3, epsilon=0.1, kernel=linear;, score=0.427 total time=   0.1s\n",
      "[CV 4/5] END C=1, degree=3, epsilon=0.1, kernel=linear;, score=0.417 total time=   0.1s\n",
      "[CV 5/5] END C=1, degree=3, epsilon=0.1, kernel=linear;, score=0.348 total time=   0.1s\n",
      "[CV 1/5] END C=1, degree=3, epsilon=0.1, kernel=poly;, score=0.436 total time=   1.2s\n",
      "[CV 2/5] END C=1, degree=3, epsilon=0.1, kernel=poly;, score=0.402 total time=   1.9s\n",
      "[CV 3/5] END C=1, degree=3, epsilon=0.1, kernel=poly;, score=0.497 total time=   1.4s\n",
      "[CV 4/5] END C=1, degree=3, epsilon=0.1, kernel=poly;, score=0.254 total time=   1.2s\n",
      "[CV 5/5] END C=1, degree=3, epsilon=0.1, kernel=poly;, score=0.436 total time=   1.3s\n",
      "[CV 1/5] END C=1, degree=3, epsilon=0.1, kernel=rbf;, score=0.695 total time=   0.3s\n",
      "[CV 2/5] END C=1, degree=3, epsilon=0.1, kernel=rbf;, score=0.650 total time=   0.3s\n",
      "[CV 3/5] END C=1, degree=3, epsilon=0.1, kernel=rbf;, score=0.718 total time=   0.3s\n",
      "[CV 4/5] END C=1, degree=3, epsilon=0.1, kernel=rbf;, score=0.704 total time=   0.3s\n",
      "[CV 5/5] END C=1, degree=3, epsilon=0.1, kernel=rbf;, score=0.641 total time=   0.3s\n",
      "[CV 1/5] END C=1, degree=3, epsilon=0.1, kernel=sigmoid;, score=-13093.759 total time=   0.5s\n",
      "[CV 2/5] END C=1, degree=3, epsilon=0.1, kernel=sigmoid;, score=-13283.865 total time=   0.5s\n",
      "[CV 3/5] END C=1, degree=3, epsilon=0.1, kernel=sigmoid;, score=-13453.123 total time=   0.5s\n",
      "[CV 4/5] END C=1, degree=3, epsilon=0.1, kernel=sigmoid;, score=-12795.384 total time=   0.5s\n",
      "[CV 5/5] END C=1, degree=3, epsilon=0.1, kernel=sigmoid;, score=-12093.295 total time=   0.5s\n",
      "[CV 1/5] END C=1, degree=4, epsilon=0.001, kernel=linear;, score=0.404 total time=   0.2s\n",
      "[CV 2/5] END C=1, degree=4, epsilon=0.001, kernel=linear;, score=0.377 total time=   0.2s\n",
      "[CV 3/5] END C=1, degree=4, epsilon=0.001, kernel=linear;, score=0.422 total time=   0.2s\n",
      "[CV 4/5] END C=1, degree=4, epsilon=0.001, kernel=linear;, score=0.410 total time=   0.3s\n",
      "[CV 5/5] END C=1, degree=4, epsilon=0.001, kernel=linear;, score=0.339 total time=   0.2s\n",
      "[CV 1/5] END C=1, degree=4, epsilon=0.001, kernel=poly;, score=0.346 total time=  27.0s\n",
      "[CV 2/5] END C=1, degree=4, epsilon=0.001, kernel=poly;, score=0.357 total time=  19.8s\n",
      "[CV 3/5] END C=1, degree=4, epsilon=0.001, kernel=poly;, score=0.396 total time=  32.0s\n",
      "[CV 4/5] END C=1, degree=4, epsilon=0.001, kernel=poly;, score=-0.169 total time=  31.8s\n",
      "[CV 5/5] END C=1, degree=4, epsilon=0.001, kernel=poly;, score=0.352 total time=  19.1s\n",
      "[CV 1/5] END C=1, degree=4, epsilon=0.001, kernel=rbf;, score=0.688 total time=   0.6s\n",
      "[CV 2/5] END C=1, degree=4, epsilon=0.001, kernel=rbf;, score=0.648 total time=   0.6s\n",
      "[CV 3/5] END C=1, degree=4, epsilon=0.001, kernel=rbf;, score=0.714 total time=   0.6s\n",
      "[CV 4/5] END C=1, degree=4, epsilon=0.001, kernel=rbf;, score=0.704 total time=   0.6s\n",
      "[CV 5/5] END C=1, degree=4, epsilon=0.001, kernel=rbf;, score=0.635 total time=   0.6s\n",
      "[CV 1/5] END C=1, degree=4, epsilon=0.001, kernel=sigmoid;, score=-13094.731 total time=   0.5s\n",
      "[CV 2/5] END C=1, degree=4, epsilon=0.001, kernel=sigmoid;, score=-13284.600 total time=   0.5s\n",
      "[CV 3/5] END C=1, degree=4, epsilon=0.001, kernel=sigmoid;, score=-13459.322 total time=   0.5s\n",
      "[CV 4/5] END C=1, degree=4, epsilon=0.001, kernel=sigmoid;, score=-12793.258 total time=   0.5s\n",
      "[CV 5/5] END C=1, degree=4, epsilon=0.001, kernel=sigmoid;, score=-12092.284 total time=   0.5s\n",
      "[CV 1/5] END C=1, degree=4, epsilon=0.01, kernel=linear;, score=0.406 total time=   0.2s\n",
      "[CV 2/5] END C=1, degree=4, epsilon=0.01, kernel=linear;, score=0.376 total time=   0.2s\n",
      "[CV 3/5] END C=1, degree=4, epsilon=0.01, kernel=linear;, score=0.423 total time=   0.2s\n",
      "[CV 4/5] END C=1, degree=4, epsilon=0.01, kernel=linear;, score=0.411 total time=   0.2s\n",
      "[CV 5/5] END C=1, degree=4, epsilon=0.01, kernel=linear;, score=0.341 total time=   0.2s\n",
      "[CV 1/5] END C=1, degree=4, epsilon=0.01, kernel=poly;, score=0.351 total time=  19.6s\n",
      "[CV 2/5] END C=1, degree=4, epsilon=0.01, kernel=poly;, score=0.354 total time=  23.4s\n",
      "[CV 3/5] END C=1, degree=4, epsilon=0.01, kernel=poly;, score=0.398 total time=  32.8s\n",
      "[CV 4/5] END C=1, degree=4, epsilon=0.01, kernel=poly;, score=-0.181 total time=  27.2s\n",
      "[CV 5/5] END C=1, degree=4, epsilon=0.01, kernel=poly;, score=0.352 total time=  26.7s\n",
      "[CV 1/5] END C=1, degree=4, epsilon=0.01, kernel=rbf;, score=0.689 total time=   0.5s\n",
      "[CV 2/5] END C=1, degree=4, epsilon=0.01, kernel=rbf;, score=0.649 total time=   0.5s\n",
      "[CV 3/5] END C=1, degree=4, epsilon=0.01, kernel=rbf;, score=0.715 total time=   0.5s\n",
      "[CV 4/5] END C=1, degree=4, epsilon=0.01, kernel=rbf;, score=0.704 total time=   0.5s\n",
      "[CV 5/5] END C=1, degree=4, epsilon=0.01, kernel=rbf;, score=0.636 total time=   0.5s\n",
      "[CV 1/5] END C=1, degree=4, epsilon=0.01, kernel=sigmoid;, score=-13094.437 total time=   0.5s\n",
      "[CV 2/5] END C=1, degree=4, epsilon=0.01, kernel=sigmoid;, score=-13286.383 total time=   0.5s\n",
      "[CV 3/5] END C=1, degree=4, epsilon=0.01, kernel=sigmoid;, score=-13457.257 total time=   0.5s\n",
      "[CV 4/5] END C=1, degree=4, epsilon=0.01, kernel=sigmoid;, score=-12792.983 total time=   0.5s\n",
      "[CV 5/5] END C=1, degree=4, epsilon=0.01, kernel=sigmoid;, score=-12091.739 total time=   0.5s\n",
      "[CV 1/5] END C=1, degree=4, epsilon=0.1, kernel=linear;, score=0.417 total time=   0.1s\n",
      "[CV 2/5] END C=1, degree=4, epsilon=0.1, kernel=linear;, score=0.383 total time=   0.1s\n",
      "[CV 3/5] END C=1, degree=4, epsilon=0.1, kernel=linear;, score=0.427 total time=   0.1s\n",
      "[CV 4/5] END C=1, degree=4, epsilon=0.1, kernel=linear;, score=0.417 total time=   0.1s\n",
      "[CV 5/5] END C=1, degree=4, epsilon=0.1, kernel=linear;, score=0.348 total time=   0.1s\n",
      "[CV 1/5] END C=1, degree=4, epsilon=0.1, kernel=poly;, score=0.375 total time=  15.8s\n",
      "[CV 2/5] END C=1, degree=4, epsilon=0.1, kernel=poly;, score=0.369 total time=  20.5s\n",
      "[CV 3/5] END C=1, degree=4, epsilon=0.1, kernel=poly;, score=0.401 total time=  39.7s\n",
      "[CV 4/5] END C=1, degree=4, epsilon=0.1, kernel=poly;, score=-0.092 total time=  21.3s\n",
      "[CV 5/5] END C=1, degree=4, epsilon=0.1, kernel=poly;, score=0.363 total time=  23.5s\n",
      "[CV 1/5] END C=1, degree=4, epsilon=0.1, kernel=rbf;, score=0.695 total time=   0.3s\n",
      "[CV 2/5] END C=1, degree=4, epsilon=0.1, kernel=rbf;, score=0.650 total time=   0.3s\n",
      "[CV 3/5] END C=1, degree=4, epsilon=0.1, kernel=rbf;, score=0.718 total time=   0.3s\n",
      "[CV 4/5] END C=1, degree=4, epsilon=0.1, kernel=rbf;, score=0.704 total time=   0.3s\n",
      "[CV 5/5] END C=1, degree=4, epsilon=0.1, kernel=rbf;, score=0.641 total time=   0.3s\n",
      "[CV 1/5] END C=1, degree=4, epsilon=0.1, kernel=sigmoid;, score=-13093.759 total time=   0.5s\n",
      "[CV 2/5] END C=1, degree=4, epsilon=0.1, kernel=sigmoid;, score=-13283.865 total time=   0.5s\n",
      "[CV 3/5] END C=1, degree=4, epsilon=0.1, kernel=sigmoid;, score=-13453.123 total time=   0.5s\n",
      "[CV 4/5] END C=1, degree=4, epsilon=0.1, kernel=sigmoid;, score=-12795.384 total time=   0.5s\n",
      "[CV 5/5] END C=1, degree=4, epsilon=0.1, kernel=sigmoid;, score=-12093.295 total time=   0.6s\n",
      "[CV 1/5] END C=10, degree=2, epsilon=0.001, kernel=linear;, score=0.506 total time=   0.3s\n",
      "[CV 2/5] END C=10, degree=2, epsilon=0.001, kernel=linear;, score=0.461 total time=   0.4s\n",
      "[CV 3/5] END C=10, degree=2, epsilon=0.001, kernel=linear;, score=0.516 total time=   0.3s\n",
      "[CV 4/5] END C=10, degree=2, epsilon=0.001, kernel=linear;, score=0.504 total time=   0.3s\n",
      "[CV 5/5] END C=10, degree=2, epsilon=0.001, kernel=linear;, score=0.438 total time=   0.3s\n"
     ]
    },
    {
     "name": "stdout",
     "output_type": "stream",
     "text": [
      "[CV 1/5] END C=10, degree=2, epsilon=0.001, kernel=poly;, score=0.544 total time=   1.9s\n",
      "[CV 2/5] END C=10, degree=2, epsilon=0.001, kernel=poly;, score=0.562 total time=   1.6s\n",
      "[CV 3/5] END C=10, degree=2, epsilon=0.001, kernel=poly;, score=0.637 total time=   1.8s\n",
      "[CV 4/5] END C=10, degree=2, epsilon=0.001, kernel=poly;, score=0.575 total time=   1.6s\n",
      "[CV 5/5] END C=10, degree=2, epsilon=0.001, kernel=poly;, score=0.578 total time=   1.6s\n",
      "[CV 1/5] END C=10, degree=2, epsilon=0.001, kernel=rbf;, score=0.727 total time=   0.7s\n",
      "[CV 2/5] END C=10, degree=2, epsilon=0.001, kernel=rbf;, score=0.687 total time=   0.9s\n",
      "[CV 3/5] END C=10, degree=2, epsilon=0.001, kernel=rbf;, score=0.757 total time=   1.0s\n",
      "[CV 4/5] END C=10, degree=2, epsilon=0.001, kernel=rbf;, score=0.746 total time=   1.0s\n",
      "[CV 5/5] END C=10, degree=2, epsilon=0.001, kernel=rbf;, score=0.685 total time=   0.9s\n",
      "[CV 1/5] END C=10, degree=2, epsilon=0.001, kernel=sigmoid;, score=-1296754.081 total time=   0.6s\n",
      "[CV 2/5] END C=10, degree=2, epsilon=0.001, kernel=sigmoid;, score=-1315816.910 total time=   0.6s\n",
      "[CV 3/5] END C=10, degree=2, epsilon=0.001, kernel=sigmoid;, score=-1332893.179 total time=   0.6s\n",
      "[CV 4/5] END C=10, degree=2, epsilon=0.001, kernel=sigmoid;, score=-1266406.452 total time=   0.6s\n",
      "[CV 5/5] END C=10, degree=2, epsilon=0.001, kernel=sigmoid;, score=-1197438.797 total time=   0.6s\n",
      "[CV 1/5] END C=10, degree=2, epsilon=0.01, kernel=linear;, score=0.506 total time=   0.3s\n",
      "[CV 2/5] END C=10, degree=2, epsilon=0.01, kernel=linear;, score=0.460 total time=   0.3s\n",
      "[CV 3/5] END C=10, degree=2, epsilon=0.01, kernel=linear;, score=0.516 total time=   0.3s\n",
      "[CV 4/5] END C=10, degree=2, epsilon=0.01, kernel=linear;, score=0.503 total time=   0.3s\n",
      "[CV 5/5] END C=10, degree=2, epsilon=0.01, kernel=linear;, score=0.438 total time=   0.3s\n",
      "[CV 1/5] END C=10, degree=2, epsilon=0.01, kernel=poly;, score=0.549 total time=   1.6s\n",
      "[CV 2/5] END C=10, degree=2, epsilon=0.01, kernel=poly;, score=0.561 total time=   1.9s\n",
      "[CV 3/5] END C=10, degree=2, epsilon=0.01, kernel=poly;, score=0.635 total time=   1.6s\n",
      "[CV 4/5] END C=10, degree=2, epsilon=0.01, kernel=poly;, score=0.572 total time=   1.5s\n",
      "[CV 5/5] END C=10, degree=2, epsilon=0.01, kernel=poly;, score=0.578 total time=   1.5s\n",
      "[CV 1/5] END C=10, degree=2, epsilon=0.01, kernel=rbf;, score=0.728 total time=   0.7s\n",
      "[CV 2/5] END C=10, degree=2, epsilon=0.01, kernel=rbf;, score=0.688 total time=   0.6s\n",
      "[CV 3/5] END C=10, degree=2, epsilon=0.01, kernel=rbf;, score=0.758 total time=   0.7s\n",
      "[CV 4/5] END C=10, degree=2, epsilon=0.01, kernel=rbf;, score=0.747 total time=   0.6s\n",
      "[CV 5/5] END C=10, degree=2, epsilon=0.01, kernel=rbf;, score=0.685 total time=   0.7s\n",
      "[CV 1/5] END C=10, degree=2, epsilon=0.01, kernel=sigmoid;, score=-1296754.081 total time=   0.5s\n",
      "[CV 2/5] END C=10, degree=2, epsilon=0.01, kernel=sigmoid;, score=-1315808.937 total time=   0.5s\n",
      "[CV 3/5] END C=10, degree=2, epsilon=0.01, kernel=sigmoid;, score=-1332939.069 total time=   0.5s\n",
      "[CV 4/5] END C=10, degree=2, epsilon=0.01, kernel=sigmoid;, score=-1266406.452 total time=   0.5s\n",
      "[CV 5/5] END C=10, degree=2, epsilon=0.01, kernel=sigmoid;, score=-1197408.891 total time=   0.5s\n",
      "[CV 1/5] END C=10, degree=2, epsilon=0.1, kernel=linear;, score=0.522 total time=   0.1s\n",
      "[CV 2/5] END C=10, degree=2, epsilon=0.1, kernel=linear;, score=0.472 total time=   0.1s\n",
      "[CV 3/5] END C=10, degree=2, epsilon=0.1, kernel=linear;, score=0.530 total time=   0.1s\n",
      "[CV 4/5] END C=10, degree=2, epsilon=0.1, kernel=linear;, score=0.515 total time=   0.1s\n",
      "[CV 5/5] END C=10, degree=2, epsilon=0.1, kernel=linear;, score=0.451 total time=   0.1s\n",
      "[CV 1/5] END C=10, degree=2, epsilon=0.1, kernel=poly;, score=0.591 total time=   1.1s\n",
      "[CV 2/5] END C=10, degree=2, epsilon=0.1, kernel=poly;, score=0.573 total time=   1.2s\n",
      "[CV 3/5] END C=10, degree=2, epsilon=0.1, kernel=poly;, score=0.642 total time=   1.3s\n",
      "[CV 4/5] END C=10, degree=2, epsilon=0.1, kernel=poly;, score=0.592 total time=   1.5s\n",
      "[CV 5/5] END C=10, degree=2, epsilon=0.1, kernel=poly;, score=0.590 total time=   1.3s\n",
      "[CV 1/5] END C=10, degree=2, epsilon=0.1, kernel=rbf;, score=0.744 total time=   0.3s\n",
      "[CV 2/5] END C=10, degree=2, epsilon=0.1, kernel=rbf;, score=0.711 total time=   0.3s\n",
      "[CV 3/5] END C=10, degree=2, epsilon=0.1, kernel=rbf;, score=0.771 total time=   0.3s\n",
      "[CV 4/5] END C=10, degree=2, epsilon=0.1, kernel=rbf;, score=0.759 total time=   0.3s\n",
      "[CV 5/5] END C=10, degree=2, epsilon=0.1, kernel=rbf;, score=0.702 total time=   0.3s\n",
      "[CV 1/5] END C=10, degree=2, epsilon=0.1, kernel=sigmoid;, score=-1296782.790 total time=   0.5s\n",
      "[CV 2/5] END C=10, degree=2, epsilon=0.1, kernel=sigmoid;, score=-1315709.391 total time=   0.5s\n",
      "[CV 3/5] END C=10, degree=2, epsilon=0.1, kernel=sigmoid;, score=-1332873.121 total time=   0.5s\n",
      "[CV 4/5] END C=10, degree=2, epsilon=0.1, kernel=sigmoid;, score=-1266234.667 total time=   0.5s\n",
      "[CV 5/5] END C=10, degree=2, epsilon=0.1, kernel=sigmoid;, score=-1197570.078 total time=   0.5s\n",
      "[CV 1/5] END C=10, degree=3, epsilon=0.001, kernel=linear;, score=0.506 total time=   0.3s\n",
      "[CV 2/5] END C=10, degree=3, epsilon=0.001, kernel=linear;, score=0.461 total time=   0.3s\n",
      "[CV 3/5] END C=10, degree=3, epsilon=0.001, kernel=linear;, score=0.516 total time=   0.3s\n",
      "[CV 4/5] END C=10, degree=3, epsilon=0.001, kernel=linear;, score=0.504 total time=   0.3s\n",
      "[CV 5/5] END C=10, degree=3, epsilon=0.001, kernel=linear;, score=0.438 total time=   0.3s\n",
      "[CV 1/5] END C=10, degree=3, epsilon=0.001, kernel=poly;, score=0.585 total time=  11.1s\n",
      "[CV 2/5] END C=10, degree=3, epsilon=0.001, kernel=poly;, score=0.538 total time=  11.8s\n",
      "[CV 3/5] END C=10, degree=3, epsilon=0.001, kernel=poly;, score=0.602 total time=  14.6s\n",
      "[CV 4/5] END C=10, degree=3, epsilon=0.001, kernel=poly;, score=0.476 total time=  16.2s\n",
      "[CV 5/5] END C=10, degree=3, epsilon=0.001, kernel=poly;, score=0.563 total time=  15.0s\n",
      "[CV 1/5] END C=10, degree=3, epsilon=0.001, kernel=rbf;, score=0.727 total time=   0.7s\n",
      "[CV 2/5] END C=10, degree=3, epsilon=0.001, kernel=rbf;, score=0.687 total time=   0.7s\n",
      "[CV 3/5] END C=10, degree=3, epsilon=0.001, kernel=rbf;, score=0.757 total time=   0.7s\n",
      "[CV 4/5] END C=10, degree=3, epsilon=0.001, kernel=rbf;, score=0.746 total time=   0.8s\n",
      "[CV 5/5] END C=10, degree=3, epsilon=0.001, kernel=rbf;, score=0.685 total time=   0.7s\n",
      "[CV 1/5] END C=10, degree=3, epsilon=0.001, kernel=sigmoid;, score=-1296754.081 total time=   0.5s\n",
      "[CV 2/5] END C=10, degree=3, epsilon=0.001, kernel=sigmoid;, score=-1315816.910 total time=   0.5s\n",
      "[CV 3/5] END C=10, degree=3, epsilon=0.001, kernel=sigmoid;, score=-1332893.179 total time=   0.5s\n",
      "[CV 4/5] END C=10, degree=3, epsilon=0.001, kernel=sigmoid;, score=-1266406.452 total time=   0.5s\n",
      "[CV 5/5] END C=10, degree=3, epsilon=0.001, kernel=sigmoid;, score=-1197438.797 total time=   0.5s\n",
      "[CV 1/5] END C=10, degree=3, epsilon=0.01, kernel=linear;, score=0.506 total time=   0.2s\n",
      "[CV 2/5] END C=10, degree=3, epsilon=0.01, kernel=linear;, score=0.460 total time=   0.2s\n",
      "[CV 3/5] END C=10, degree=3, epsilon=0.01, kernel=linear;, score=0.516 total time=   0.2s\n",
      "[CV 4/5] END C=10, degree=3, epsilon=0.01, kernel=linear;, score=0.503 total time=   0.2s\n",
      "[CV 5/5] END C=10, degree=3, epsilon=0.01, kernel=linear;, score=0.438 total time=   0.2s\n",
      "[CV 1/5] END C=10, degree=3, epsilon=0.01, kernel=poly;, score=0.585 total time=   9.6s\n",
      "[CV 2/5] END C=10, degree=3, epsilon=0.01, kernel=poly;, score=0.539 total time=   9.3s\n",
      "[CV 3/5] END C=10, degree=3, epsilon=0.01, kernel=poly;, score=0.603 total time=  14.0s\n",
      "[CV 4/5] END C=10, degree=3, epsilon=0.01, kernel=poly;, score=0.481 total time=  13.1s\n",
      "[CV 5/5] END C=10, degree=3, epsilon=0.01, kernel=poly;, score=0.564 total time=  10.2s\n",
      "[CV 1/5] END C=10, degree=3, epsilon=0.01, kernel=rbf;, score=0.728 total time=   0.7s\n",
      "[CV 2/5] END C=10, degree=3, epsilon=0.01, kernel=rbf;, score=0.688 total time=   0.6s\n",
      "[CV 3/5] END C=10, degree=3, epsilon=0.01, kernel=rbf;, score=0.758 total time=   0.7s\n",
      "[CV 4/5] END C=10, degree=3, epsilon=0.01, kernel=rbf;, score=0.747 total time=   0.6s\n",
      "[CV 5/5] END C=10, degree=3, epsilon=0.01, kernel=rbf;, score=0.685 total time=   0.7s\n",
      "[CV 1/5] END C=10, degree=3, epsilon=0.01, kernel=sigmoid;, score=-1296754.081 total time=   0.5s\n"
     ]
    },
    {
     "name": "stdout",
     "output_type": "stream",
     "text": [
      "[CV 2/5] END C=10, degree=3, epsilon=0.01, kernel=sigmoid;, score=-1315808.937 total time=   0.5s\n",
      "[CV 3/5] END C=10, degree=3, epsilon=0.01, kernel=sigmoid;, score=-1332939.069 total time=   0.5s\n",
      "[CV 4/5] END C=10, degree=3, epsilon=0.01, kernel=sigmoid;, score=-1266406.452 total time=   0.5s\n",
      "[CV 5/5] END C=10, degree=3, epsilon=0.01, kernel=sigmoid;, score=-1197408.891 total time=   0.5s\n",
      "[CV 1/5] END C=10, degree=3, epsilon=0.1, kernel=linear;, score=0.522 total time=   0.1s\n",
      "[CV 2/5] END C=10, degree=3, epsilon=0.1, kernel=linear;, score=0.472 total time=   0.1s\n",
      "[CV 3/5] END C=10, degree=3, epsilon=0.1, kernel=linear;, score=0.530 total time=   0.1s\n",
      "[CV 4/5] END C=10, degree=3, epsilon=0.1, kernel=linear;, score=0.515 total time=   0.1s\n",
      "[CV 5/5] END C=10, degree=3, epsilon=0.1, kernel=linear;, score=0.451 total time=   0.1s\n",
      "[CV 1/5] END C=10, degree=3, epsilon=0.1, kernel=poly;, score=0.594 total time=   6.5s\n",
      "[CV 2/5] END C=10, degree=3, epsilon=0.1, kernel=poly;, score=0.545 total time=   9.1s\n",
      "[CV 3/5] END C=10, degree=3, epsilon=0.1, kernel=poly;, score=0.611 total time=  13.6s\n",
      "[CV 4/5] END C=10, degree=3, epsilon=0.1, kernel=poly;, score=0.491 total time=  15.7s\n",
      "[CV 5/5] END C=10, degree=3, epsilon=0.1, kernel=poly;, score=0.570 total time=  10.6s\n",
      "[CV 1/5] END C=10, degree=3, epsilon=0.1, kernel=rbf;, score=0.744 total time=   0.3s\n",
      "[CV 2/5] END C=10, degree=3, epsilon=0.1, kernel=rbf;, score=0.711 total time=   0.3s\n",
      "[CV 3/5] END C=10, degree=3, epsilon=0.1, kernel=rbf;, score=0.771 total time=   0.3s\n",
      "[CV 4/5] END C=10, degree=3, epsilon=0.1, kernel=rbf;, score=0.759 total time=   0.3s\n",
      "[CV 5/5] END C=10, degree=3, epsilon=0.1, kernel=rbf;, score=0.702 total time=   0.3s\n",
      "[CV 1/5] END C=10, degree=3, epsilon=0.1, kernel=sigmoid;, score=-1296782.790 total time=   0.5s\n",
      "[CV 2/5] END C=10, degree=3, epsilon=0.1, kernel=sigmoid;, score=-1315709.391 total time=   0.5s\n",
      "[CV 3/5] END C=10, degree=3, epsilon=0.1, kernel=sigmoid;, score=-1332873.121 total time=   0.5s\n",
      "[CV 4/5] END C=10, degree=3, epsilon=0.1, kernel=sigmoid;, score=-1266234.667 total time=   0.5s\n",
      "[CV 5/5] END C=10, degree=3, epsilon=0.1, kernel=sigmoid;, score=-1197570.078 total time=   0.5s\n",
      "[CV 1/5] END C=10, degree=4, epsilon=0.001, kernel=linear;, score=0.506 total time=   0.2s\n",
      "[CV 2/5] END C=10, degree=4, epsilon=0.001, kernel=linear;, score=0.461 total time=   0.2s\n",
      "[CV 3/5] END C=10, degree=4, epsilon=0.001, kernel=linear;, score=0.516 total time=   0.3s\n",
      "[CV 4/5] END C=10, degree=4, epsilon=0.001, kernel=linear;, score=0.504 total time=   0.2s\n",
      "[CV 5/5] END C=10, degree=4, epsilon=0.001, kernel=linear;, score=0.438 total time=   0.2s\n",
      "[CV 1/5] END C=10, degree=4, epsilon=0.001, kernel=poly;, score=0.452 total time= 1.2min\n",
      "[CV 2/5] END C=10, degree=4, epsilon=0.001, kernel=poly;, score=0.304 total time= 1.5min\n",
      "[CV 3/5] END C=10, degree=4, epsilon=0.001, kernel=poly;, score=0.455 total time= 1.9min\n",
      "[CV 4/5] END C=10, degree=4, epsilon=0.001, kernel=poly;, score=-0.655 total time= 3.5min\n",
      "[CV 5/5] END C=10, degree=4, epsilon=0.001, kernel=poly;, score=0.469 total time= 1.4min\n",
      "[CV 1/5] END C=10, degree=4, epsilon=0.001, kernel=rbf;, score=0.727 total time=   0.7s\n",
      "[CV 2/5] END C=10, degree=4, epsilon=0.001, kernel=rbf;, score=0.687 total time=   0.8s\n",
      "[CV 3/5] END C=10, degree=4, epsilon=0.001, kernel=rbf;, score=0.757 total time=   0.8s\n",
      "[CV 4/5] END C=10, degree=4, epsilon=0.001, kernel=rbf;, score=0.746 total time=   0.8s\n",
      "[CV 5/5] END C=10, degree=4, epsilon=0.001, kernel=rbf;, score=0.685 total time=   0.8s\n",
      "[CV 1/5] END C=10, degree=4, epsilon=0.001, kernel=sigmoid;, score=-1296754.081 total time=   0.5s\n",
      "[CV 2/5] END C=10, degree=4, epsilon=0.001, kernel=sigmoid;, score=-1315816.910 total time=   0.6s\n",
      "[CV 3/5] END C=10, degree=4, epsilon=0.001, kernel=sigmoid;, score=-1332893.179 total time=   0.5s\n",
      "[CV 4/5] END C=10, degree=4, epsilon=0.001, kernel=sigmoid;, score=-1266406.452 total time=   0.5s\n",
      "[CV 5/5] END C=10, degree=4, epsilon=0.001, kernel=sigmoid;, score=-1197438.797 total time=   0.5s\n",
      "[CV 1/5] END C=10, degree=4, epsilon=0.01, kernel=linear;, score=0.506 total time=   0.3s\n",
      "[CV 2/5] END C=10, degree=4, epsilon=0.01, kernel=linear;, score=0.460 total time=   0.3s\n",
      "[CV 3/5] END C=10, degree=4, epsilon=0.01, kernel=linear;, score=0.516 total time=   0.3s\n",
      "[CV 4/5] END C=10, degree=4, epsilon=0.01, kernel=linear;, score=0.503 total time=   0.3s\n",
      "[CV 5/5] END C=10, degree=4, epsilon=0.01, kernel=linear;, score=0.438 total time=   0.2s\n",
      "[CV 1/5] END C=10, degree=4, epsilon=0.01, kernel=poly;, score=0.464 total time=  53.0s\n",
      "[CV 2/5] END C=10, degree=4, epsilon=0.01, kernel=poly;, score=0.304 total time= 1.2min\n",
      "[CV 3/5] END C=10, degree=4, epsilon=0.01, kernel=poly;, score=0.430 total time= 2.4min\n",
      "[CV 4/5] END C=10, degree=4, epsilon=0.01, kernel=poly;, score=-0.673 total time= 2.1min\n",
      "[CV 5/5] END C=10, degree=4, epsilon=0.01, kernel=poly;, score=0.471 total time= 2.4min\n",
      "[CV 1/5] END C=10, degree=4, epsilon=0.01, kernel=rbf;, score=0.728 total time=   0.8s\n",
      "[CV 2/5] END C=10, degree=4, epsilon=0.01, kernel=rbf;, score=0.688 total time=   0.8s\n",
      "[CV 3/5] END C=10, degree=4, epsilon=0.01, kernel=rbf;, score=0.758 total time=   0.8s\n",
      "[CV 4/5] END C=10, degree=4, epsilon=0.01, kernel=rbf;, score=0.747 total time=   0.7s\n",
      "[CV 5/5] END C=10, degree=4, epsilon=0.01, kernel=rbf;, score=0.685 total time=   0.8s\n",
      "[CV 1/5] END C=10, degree=4, epsilon=0.01, kernel=sigmoid;, score=-1296754.081 total time=   0.7s\n",
      "[CV 2/5] END C=10, degree=4, epsilon=0.01, kernel=sigmoid;, score=-1315808.937 total time=   0.7s\n",
      "[CV 3/5] END C=10, degree=4, epsilon=0.01, kernel=sigmoid;, score=-1332939.069 total time=   0.6s\n",
      "[CV 4/5] END C=10, degree=4, epsilon=0.01, kernel=sigmoid;, score=-1266406.452 total time=   0.5s\n",
      "[CV 5/5] END C=10, degree=4, epsilon=0.01, kernel=sigmoid;, score=-1197408.891 total time=   0.5s\n",
      "[CV 1/5] END C=10, degree=4, epsilon=0.1, kernel=linear;, score=0.522 total time=   0.2s\n",
      "[CV 2/5] END C=10, degree=4, epsilon=0.1, kernel=linear;, score=0.472 total time=   0.2s\n",
      "[CV 3/5] END C=10, degree=4, epsilon=0.1, kernel=linear;, score=0.530 total time=   0.2s\n",
      "[CV 4/5] END C=10, degree=4, epsilon=0.1, kernel=linear;, score=0.515 total time=   0.2s\n",
      "[CV 5/5] END C=10, degree=4, epsilon=0.1, kernel=linear;, score=0.451 total time=   0.2s\n",
      "[CV 1/5] END C=10, degree=4, epsilon=0.1, kernel=poly;, score=0.143 total time= 1.2min\n",
      "[CV 2/5] END C=10, degree=4, epsilon=0.1, kernel=poly;, score=0.431 total time= 1.4min\n",
      "[CV 3/5] END C=10, degree=4, epsilon=0.1, kernel=poly;, score=0.488 total time= 1.3min\n",
      "[CV 4/5] END C=10, degree=4, epsilon=0.1, kernel=poly;, score=-0.488 total time= 2.3min\n",
      "[CV 5/5] END C=10, degree=4, epsilon=0.1, kernel=poly;, score=0.508 total time= 1.4min\n",
      "[CV 1/5] END C=10, degree=4, epsilon=0.1, kernel=rbf;, score=0.744 total time=   0.3s\n",
      "[CV 2/5] END C=10, degree=4, epsilon=0.1, kernel=rbf;, score=0.711 total time=   0.4s\n",
      "[CV 3/5] END C=10, degree=4, epsilon=0.1, kernel=rbf;, score=0.771 total time=   0.4s\n",
      "[CV 4/5] END C=10, degree=4, epsilon=0.1, kernel=rbf;, score=0.759 total time=   0.3s\n",
      "[CV 5/5] END C=10, degree=4, epsilon=0.1, kernel=rbf;, score=0.702 total time=   0.3s\n",
      "[CV 1/5] END C=10, degree=4, epsilon=0.1, kernel=sigmoid;, score=-1296782.790 total time=   0.6s\n",
      "[CV 2/5] END C=10, degree=4, epsilon=0.1, kernel=sigmoid;, score=-1315709.391 total time=   0.5s\n",
      "[CV 3/5] END C=10, degree=4, epsilon=0.1, kernel=sigmoid;, score=-1332873.121 total time=   0.5s\n",
      "[CV 4/5] END C=10, degree=4, epsilon=0.1, kernel=sigmoid;, score=-1266234.667 total time=   0.5s\n",
      "[CV 5/5] END C=10, degree=4, epsilon=0.1, kernel=sigmoid;, score=-1197570.078 total time=   0.5s\n",
      "2468.284839630127\n"
     ]
    }
   ],
   "source": [
    "from sklearn.model_selection import GridSearchCV\n",
    "\n",
    "# Make sure the dataset is a square matrix if you are using kernel='precomputed'. Otherwise avoid using 'precomputed'.\n",
    "param_grid = {\n",
    "    'kernel': ['linear', 'poly', 'rbf', 'sigmoid'],\n",
    "    'degree': [2, 3, 4],\n",
    "    'C': [0.1, 1, 10],\n",
    "    'epsilon': [0.001, 0.01, 0.1]# 'log2'],\n",
    "    #'criterion' :['gini', 'entropy']\n",
    "}\n",
    "\n",
    "import time\n",
    "start = time.time()\n",
    "model = SVR()\n",
    "reg = GridSearchCV(estimator=model, param_grid=param_grid, cv= 5, verbose = 3)\n",
    "reg.fit(X_train, y_train)\n",
    "duration = time.time() - start\n",
    "print(duration)"
   ]
  },
  {
   "cell_type": "code",
   "execution_count": 82,
   "id": "a4831646",
   "metadata": {},
   "outputs": [
    {
     "data": {
      "text/plain": [
       "{'C': 10, 'degree': 2, 'epsilon': 0.1, 'kernel': 'rbf'}"
      ]
     },
     "execution_count": 82,
     "metadata": {},
     "output_type": "execute_result"
    }
   ],
   "source": [
    "reg.best_params_"
   ]
  },
  {
   "cell_type": "code",
   "execution_count": 88,
   "id": "b23dd348",
   "metadata": {},
   "outputs": [
    {
     "name": "stdout",
     "output_type": "stream",
     "text": [
      "Fitting 5 folds for each of 2 candidates, totalling 10 fits\n",
      "[CV 1/5] END ...C=1000, epsilon=0.1, kernel=rbf;, score=0.782 total time=   2.2s\n",
      "[CV 2/5] END ...C=1000, epsilon=0.1, kernel=rbf;, score=0.749 total time=   2.5s\n",
      "[CV 3/5] END ...C=1000, epsilon=0.1, kernel=rbf;, score=0.822 total time=   2.3s\n",
      "[CV 4/5] END ...C=1000, epsilon=0.1, kernel=rbf;, score=0.805 total time=   2.8s\n",
      "[CV 5/5] END ...C=1000, epsilon=0.1, kernel=rbf;, score=0.761 total time=   2.4s\n",
      "[CV 1/5] END ...C=4000, epsilon=0.1, kernel=rbf;, score=0.784 total time=   6.9s\n",
      "[CV 2/5] END ...C=4000, epsilon=0.1, kernel=rbf;, score=0.686 total time=   6.5s\n",
      "[CV 3/5] END ...C=4000, epsilon=0.1, kernel=rbf;, score=0.827 total time=   6.9s\n",
      "[CV 4/5] END ...C=4000, epsilon=0.1, kernel=rbf;, score=0.791 total time=   7.3s\n",
      "[CV 5/5] END ...C=4000, epsilon=0.1, kernel=rbf;, score=0.744 total time=   5.6s\n",
      "49.93667435646057\n"
     ]
    }
   ],
   "source": [
    "# Make sure the dataset is a square matrix if you are using kernel='precomputed'. Otherwise avoid using 'precomputed'.\n",
    "param_grid = {\n",
    "    'kernel': ['rbf'],\n",
    "    'C': [1000, 4000],\n",
    "    'epsilon': [0.1]# 'log2'],\n",
    "    #'criterion' :['gini', 'entropy']\n",
    "}\n",
    "\n",
    "import time\n",
    "start = time.time()\n",
    "model0 = SVR()\n",
    "reg0 = GridSearchCV(estimator=model, param_grid=param_grid, cv= 5, verbose = 3)\n",
    "reg0.fit(X_train, y_train)\n",
    "duration = time.time() - start\n",
    "print(duration)"
   ]
  },
  {
   "cell_type": "code",
   "execution_count": 89,
   "id": "e0561f40",
   "metadata": {},
   "outputs": [
    {
     "data": {
      "text/plain": [
       "{'C': 1000, 'epsilon': 0.1, 'kernel': 'rbf'}"
      ]
     },
     "execution_count": 89,
     "metadata": {},
     "output_type": "execute_result"
    }
   ],
   "source": [
    "reg0.best_params_"
   ]
  },
  {
   "cell_type": "code",
   "execution_count": 107,
   "id": "d3d1e568",
   "metadata": {},
   "outputs": [
    {
     "name": "stdout",
     "output_type": "stream",
     "text": [
      "0.8124988344925081 0.7802120809629793\n",
      "0.02892791337116485 0.03353211442255123\n"
     ]
    }
   ],
   "source": [
    "svm_poly_reg = SVR(kernel=\"rbf\", degree=2, C=1000, epsilon=0.1)\n",
    "svm_poly_reg.fit(X_train, y_train)\n",
    "\n",
    "print(r2_score(y_train, svm_poly_reg.predict(X_train)), r2_score(y_test, svm_poly_reg.predict(X_test)))\n",
    "print(mean_squared_error(y_train, svm_poly_reg.predict(X_train)), mean_squared_error(y_test, svm_poly_reg.predict(X_test)))"
   ]
  },
  {
   "cell_type": "markdown",
   "id": "2ef6c8e1",
   "metadata": {},
   "source": [
    "The results above shows that using the SVM regression with an rbf kernel with a degree of 2 and C and epsilon equal to 1000 and 0.1 is able to predict the values with rather high r squared and low MSE. Howvere, I decided to examine Random forest as well, to see if it is able to have even higher r squared values."
   ]
  },
  {
   "cell_type": "markdown",
   "id": "a74f4220",
   "metadata": {},
   "source": [
    "4. Random forest regression\n",
    "\n",
    "The final method to use is random forest regression. Using the default values of random forest regressor is able to give results better than the default values of regression SVM, but it does not work better than the version with tuned hyperparameters! So, I decided to try different hyperparameters."
   ]
  },
  {
   "cell_type": "code",
   "execution_count": 59,
   "id": "dafc1f3f",
   "metadata": {},
   "outputs": [],
   "source": [
    "from sklearn.ensemble import RandomForestRegressor"
   ]
  },
  {
   "cell_type": "code",
   "execution_count": 60,
   "id": "3eaa3987",
   "metadata": {},
   "outputs": [],
   "source": [
    "X_t, X_test, y_t, y_test = train_test_split(X, y, test_size=0.1, random_state=42)\n",
    "\n",
    "X_train, X_valid, y_train, y_valid = train_test_split(X_t, y_t, test_size=0.2, random_state=42)"
   ]
  },
  {
   "cell_type": "code",
   "execution_count": 61,
   "id": "209b1c68",
   "metadata": {},
   "outputs": [
    {
     "name": "stdout",
     "output_type": "stream",
     "text": [
      "0.7466914360617694 0.7476046629299182\n",
      "0.0390807607725858 0.038506890458009306\n"
     ]
    }
   ],
   "source": [
    "regr = RandomForestRegressor(max_depth=2, random_state=0)\n",
    "regr.fit(X_train, y_train)\n",
    "\n",
    "print(r2_score(y_train, regr.predict(X_train)), r2_score(y_test, regr.predict(X_test)))\n",
    "print(mean_squared_error(y_train, regr.predict(X_train)), mean_squared_error(y_test, regr.predict(X_test)))"
   ]
  },
  {
   "cell_type": "code",
   "execution_count": 163,
   "id": "127b67dd",
   "metadata": {},
   "outputs": [
    {
     "data": {
      "text/plain": [
       "array([ 200.,  400.,  600.,  800., 1000., 1200., 1400., 1600., 1800.,\n",
       "       2000.])"
      ]
     },
     "execution_count": 163,
     "metadata": {},
     "output_type": "execute_result"
    }
   ],
   "source": [
    "np.linspace(start = 200, stop = 2000, num = 10)"
   ]
  },
  {
   "cell_type": "code",
   "execution_count": 114,
   "id": "21d5b7b5",
   "metadata": {},
   "outputs": [],
   "source": [
    "from sklearn.model_selection import RandomizedSearchCV\n",
    "\n",
    "# Number of trees in random forest\n",
    "n_estimators = [int(x) for x in np.linspace(start = 200, stop = 2000, num = 10)]\n",
    "# Number of features to consider at every split\n",
    "max_features = ['auto', 'sqrt']\n",
    "# Maximum number of levels in tree\n",
    "max_depth = [int(x) for x in np.linspace(10, 110, num = 11)]\n",
    "max_depth.append(None)\n",
    "# Minimum number of samples required to split a node\n",
    "min_samples_split = [2, 5, 10]\n",
    "# Minimum number of samples required at each leaf node\n",
    "min_samples_leaf = [1, 2, 4]\n",
    "# Method of selecting samples for training each tree\n",
    "bootstrap = [True, False]\n",
    "\n",
    "random_grid = {'n_estimators': n_estimators,\n",
    "               'max_features': max_features,\n",
    "               'max_depth': max_depth,\n",
    "               'min_samples_split': min_samples_split,\n",
    "               'min_samples_leaf': min_samples_leaf,\n",
    "               'bootstrap': bootstrap}"
   ]
  },
  {
   "cell_type": "code",
   "execution_count": 121,
   "id": "3d84e54c",
   "metadata": {},
   "outputs": [
    {
     "name": "stdout",
     "output_type": "stream",
     "text": [
      "Fitting 3 folds for each of 20 candidates, totalling 60 fits\n",
      "116.01811599731445\n"
     ]
    }
   ],
   "source": [
    "# Use the random grid to search for best hyperparameters\n",
    "# First create the base model to tune\n",
    "rf = RandomForestRegressor()\n",
    "# Random search of parameters, using 3 fold cross validation, \n",
    "# search across 100 different combinations, and use all available cores\n",
    "start = time.time()\n",
    "rf_random = RandomizedSearchCV(estimator = rf, param_distributions = random_grid, n_iter = 20, cv = 3, verbose=3, random_state=42, n_jobs = -1)\n",
    "# Fit the random search model\n",
    "rf_random.fit(X_train, y_train)\n",
    "duration = time.time() - start\n",
    "print(duration)"
   ]
  },
  {
   "cell_type": "code",
   "execution_count": 122,
   "id": "e33c742f",
   "metadata": {},
   "outputs": [
    {
     "data": {
      "text/plain": [
       "{'n_estimators': 1400,\n",
       " 'min_samples_split': 5,\n",
       " 'min_samples_leaf': 1,\n",
       " 'max_features': 'sqrt',\n",
       " 'max_depth': 30,\n",
       " 'bootstrap': True}"
      ]
     },
     "execution_count": 122,
     "metadata": {},
     "output_type": "execute_result"
    }
   ],
   "source": [
    "rf_random.best_params_"
   ]
  },
  {
   "cell_type": "code",
   "execution_count": 62,
   "id": "fa8e40a2",
   "metadata": {},
   "outputs": [
    {
     "name": "stdout",
     "output_type": "stream",
     "text": [
      "0.9568452117848725 0.8612285347487361\n",
      "0.006657974480634862 0.021171776282238153\n"
     ]
    }
   ],
   "source": [
    "regr0 = RandomForestRegressor(n_estimators = 1400, min_samples_split = 5, min_samples_leaf = 1, max_features = 'sqrt', max_depth = 30, bootstrap = True)\n",
    "regr0.fit(X_train, y_train)\n",
    "\n",
    "print(r2_score(y_train, regr0.predict(X_train)), r2_score(y_test, regr0.predict(X_test)))\n",
    "print(mean_squared_error(y_train, regr0.predict(X_train)), mean_squared_error(y_test, regr0.predict(X_test)))"
   ]
  },
  {
   "cell_type": "code",
   "execution_count": 201,
   "id": "54c2776b",
   "metadata": {},
   "outputs": [],
   "source": [
    "est = np.linspace(start = 1, stop = 200, num = 20)\n",
    "md = np.linspace(1, 110, num = 20)"
   ]
  },
  {
   "cell_type": "code",
   "execution_count": 202,
   "id": "6465ed76",
   "metadata": {},
   "outputs": [
    {
     "name": "stdout",
     "output_type": "stream",
     "text": [
      "1.0\n",
      "6.7368421052631575\n",
      "12.473684210526315\n",
      "18.210526315789473\n",
      "23.94736842105263\n",
      "29.684210526315788\n",
      "35.421052631578945\n",
      "41.1578947368421\n",
      "46.89473684210526\n",
      "52.63157894736842\n",
      "58.368421052631575\n",
      "64.10526315789474\n",
      "69.84210526315789\n",
      "75.57894736842104\n",
      "81.3157894736842\n",
      "87.05263157894737\n",
      "92.78947368421052\n",
      "98.52631578947367\n",
      "104.26315789473684\n",
      "110.0\n",
      "15.052870512008667\n"
     ]
    }
   ],
   "source": [
    "# Use the random grid to search for best hyperparameters\n",
    "# First create the base model to tune\n",
    "\n",
    "r2_train = []\n",
    "r2_valid = []\n",
    "r2_test = []\n",
    "err_train = []\n",
    "err_valid = []\n",
    "err_test = []\n",
    "counter = 0\n",
    "# Random search of parameters, using 3 fold cross validation, \n",
    "# search across 100 different combinations, and use all available cores\n",
    "import time\n",
    "start = time.time()\n",
    "for i in md:\n",
    "    regr1 = RandomForestRegressor(n_estimators = 100, min_samples_split = 5, min_samples_leaf = 1, max_features = 'sqrt', max_depth = int(i), bootstrap = True)\n",
    "    regr1.fit(X_train, y_train)\n",
    "    r2_train.append(r2_score(y_train, regr1.predict(X_train)))\n",
    "    r2_valid.append(r2_score(y_valid, regr1.predict(X_valid)))\n",
    "    r2_test.append(r2_score(y_test, regr1.predict(X_test)))\n",
    "    err_train.append(mean_squared_error(y_train, regr1.predict(X_train)))\n",
    "    err_valid.append(mean_squared_error(y_train, regr1.predict(X_train)))\n",
    "    err_test.append(mean_squared_error(y_test, regr1.predict(X_test)))\n",
    "    print(i)\n",
    "    counter = counter + 1\n",
    "duration = time.time() - start\n",
    "print(duration)"
   ]
  },
  {
   "cell_type": "markdown",
   "id": "6c03e699",
   "metadata": {},
   "source": [
    "This plot shows the plot of the r squared for different values of max_depth (one of the hyperparameters) for training, validation, and test sets. It shows that this parameter hjas a very important role in determining the r squared. However, the value reaches the maximum after a maximum depth of 30.\n",
    "\n",
    "Another interesting point is that there is a slight underfitting as the training r-squared is higher than that of test and validation."
   ]
  },
  {
   "cell_type": "code",
   "execution_count": 224,
   "id": "fc9b2d0b",
   "metadata": {},
   "outputs": [
    {
     "data": {
      "image/png": "[encoded data removed]",
      "text/plain": [
       "<Figure size 432x288 with 1 Axes>"
      ]
     },
     "metadata": {
      "needs_background": "light"
     },
     "output_type": "display_data"
    }
   ],
   "source": [
    "plt.plot(md, r2_train, \"-b\", label=\"Training dataset\")\n",
    "plt.plot(md, r2_valid, \"-r\", label=\"Validation dataset\")\n",
    "plt.plot(md, r2_test, \"-g\", label=\"Test dataset\")\n",
    "plt.legend(loc=\"lower right\")\n",
    "\n",
    "plt.title(\"Maximum depth hyperparameter\")\n",
    "plt.ylabel('r squared')\n",
    "plt.xlabel('max_depth hyperparameter')\n",
    "plt.show()"
   ]
  },
  {
   "cell_type": "markdown",
   "id": "38383aad",
   "metadata": {},
   "source": [
    "Finally, the selected model, the random forest regressor with is used to map depth along the lake."
   ]
  },
  {
   "cell_type": "code",
   "execution_count": 21,
   "id": "6f10b3b8",
   "metadata": {},
   "outputs": [],
   "source": [
    "def load_img_from_folder(folder):\n",
    "    images = []\n",
    "    names = []\n",
    "    for filename in os.listdir(folder):\n",
    "        img = tifffile.imread(os.path.join(folder,filename))\n",
    "        names.append(filename)\n",
    "        images.append(img)\n",
    "    return images, names\n",
    "\n",
    "path = '.'\n",
    "images, names = load_img_from_folder('images')"
   ]
  },
  {
   "cell_type": "code",
   "execution_count": 81,
   "id": "f86254a1",
   "metadata": {},
   "outputs": [],
   "source": [
    "mask = images[0]\n",
    "img_shp = np.shape(mask)\n",
    "bands = np.stack((images[1], images[2], images[3], images[4], images[5], images[6]), axis = 2)\n",
    "\n",
    "ind = np.reshape(mask, (img_shp[0]*img_shp[1], 1))\n",
    "input = np.reshape(bands, (img_shp[0]*img_shp[1], 6))\n",
    "input = input/10000"
   ]
  },
  {
   "cell_type": "code",
   "execution_count": 84,
   "id": "b49c132a",
   "metadata": {},
   "outputs": [],
   "source": [
    "nz_ind = np.nonzero(ind)"
   ]
  },
  {
   "cell_type": "code",
   "execution_count": 228,
   "id": "1ca27b0a",
   "metadata": {},
   "outputs": [],
   "source": [
    "y_pred=np.zeros(len(ind))\n",
    "\n",
    "for i in nz_ind:\n",
    "    sample = input[i, :]\n",
    "    y_samp = regr0.predict(sample)\n",
    "    y_pred[i] = y_samp"
   ]
  },
  {
   "cell_type": "code",
   "execution_count": 99,
   "id": "43655b83",
   "metadata": {},
   "outputs": [],
   "source": [
    "depth = np.reshape(y_pred, (img_shp[0],img_shp[1]))"
   ]
  },
  {
   "cell_type": "code",
   "execution_count": 100,
   "id": "0352fbac",
   "metadata": {},
   "outputs": [
    {
     "data": {
      "text/plain": [
       "<matplotlib.image.AxesImage at 0x1f915eba518>"
      ]
     },
     "execution_count": 100,
     "metadata": {},
     "output_type": "execute_result"
    },
    {
     "data": {
      "image/png": "[encoded data removed]",
      "text/plain": [
       "<Figure size 432x288 with 1 Axes>"
      ]
     },
     "metadata": {
      "needs_background": "light"
     },
     "output_type": "display_data"
    }
   ],
   "source": [
    "plt.imshow(depth)"
   ]
  },
  {
   "cell_type": "code",
   "execution_count": 111,
   "id": "18f47552",
   "metadata": {},
   "outputs": [
    {
     "data": {
      "text/plain": [
       "0.026972848742527315"
      ]
     },
     "execution_count": 111,
     "metadata": {},
     "output_type": "execute_result"
    }
   ],
   "source": [
    "value,position = min(((b,a) for a,b in enumerate(y_pred) if b>-99), default=(None,None))\n",
    "\n",
    "value"
   ]
  },
  {
   "cell_type": "markdown",
   "id": "f533600b",
   "metadata": {},
   "source": [
    "Finally, the produced image is saved to be able to plot and alalyze the results in ArcGIS."
   ]
  },
  {
   "cell_type": "code",
   "execution_count": 17,
   "id": "afe471ce",
   "metadata": {},
   "outputs": [
    {
     "data": {
      "text/plain": [
       "BoundingBox(left=362385.0, bottom=4029285.0, right=594315.0, top=4264815.0)"
      ]
     },
     "execution_count": 17,
     "metadata": {},
     "output_type": "execute_result"
    }
   ],
   "source": [
    "import rasterio\n",
    "\n",
    "ref_img = rasterio.open('./images/LC08_L1TP_169034_20180325_20180404_01_T1_sr_band2.tif')\n",
    "\n",
    "ref_img.bounds"
   ]
  },
  {
   "cell_type": "code",
   "execution_count": 24,
   "id": "169e74d3",
   "metadata": {},
   "outputs": [],
   "source": [
    "from rasterio.warp import calculate_default_transform\n",
    "\n",
    "src = rasterio.open('./images/LC08_L1TP_169034_20180325_20180404_01_T1_sr_band2.tif')"
   ]
  },
  {
   "cell_type": "code",
   "execution_count": 19,
   "id": "59e4eef1",
   "metadata": {},
   "outputs": [],
   "source": [
    "#!pip install gdal\n",
    "\n",
    "from osgeo import gdal"
   ]
  },
  {
   "cell_type": "code",
   "execution_count": 20,
   "id": "bc3a805b",
   "metadata": {},
   "outputs": [],
   "source": [
    "step1 = gdal.Open('./images/LC081690342018032501T1-SC20190406090751_MainWaterBody.tif', gdal.GA_ReadOnly)\n",
    "GT_input = step1.GetGeoTransform()\n",
    "step2 = step1.GetRasterBand(1)\n",
    "img_as_array = step2.ReadAsArray()\n",
    "size1,size2=img_as_array.shape\n",
    "op =np.zeros(shape=(size1,size2))"
   ]
  },
  {
   "cell_type": "code",
   "execution_count": 21,
   "id": "8ceed2e3",
   "metadata": {},
   "outputs": [],
   "source": [
    "#!pip install rioxarray\n",
    "import rioxarray as rxr"
   ]
  },
  {
   "cell_type": "code",
   "execution_count": 22,
   "id": "60505466",
   "metadata": {},
   "outputs": [],
   "source": [
    "step3 = rxr.open_rasterio('./images/LC081690342018032501T1-SC20190406090751_MainWaterBody.tif', masked=True)\n",
    "dst_crs= step3.rio.crs"
   ]
  },
  {
   "cell_type": "code",
   "execution_count": 160,
   "id": "49f0660a",
   "metadata": {},
   "outputs": [],
   "source": [
    "depth_proj = xr_dep.rio.set_crs(dst_crs, inplace=True)"
   ]
  },
  {
   "cell_type": "code",
   "execution_count": 161,
   "id": "513967f3",
   "metadata": {},
   "outputs": [],
   "source": [
    "tifffile.imsave('test2.tif', depth_proj)"
   ]
  }
 ],
 "metadata": {
  "kernelspec": {
   "display_name": "Python 3 (ipykernel)",
   "language": "python",
   "name": "python3"
  },
  "language_info": {
   "codemirror_mode": {
    "name": "ipython",
    "version": 3
   },
   "file_extension": ".py",
   "mimetype": "text/x-python",
   "name": "python",
   "nbconvert_exporter": "python",
   "pygments_lexer": "ipython3",
   "version": "3.7.0"
  }
 },
 "nbformat": 4,
 "nbformat_minor": 5
}
